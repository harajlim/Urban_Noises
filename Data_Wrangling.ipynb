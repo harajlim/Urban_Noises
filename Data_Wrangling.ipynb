{
 "cells": [
  {
   "cell_type": "markdown",
   "metadata": {},
   "source": [
    "## Introduction:\n",
    "The data consists of 8732 .wav files. Of these files 5435 are used for training and 3297 used for testing a classification algorithm. The 5435 .wav files sit in the folder 'train' while the testing files reside in the 'test' folder. Both the mentioned folders are in the ipython notebook's directory. \n",
    "\n",
    "To be useful, .wav files need to be read as numpy arrays. P\n",
    "\n",
    "In this notebook, all the .wav files are read and converted to numpy arrays. Furthermore, these new numpy arrays are pickled for easy future use. \n",
    "\n",
    "\n"
   ]
  },
  {
   "cell_type": "code",
   "execution_count": 1,
   "metadata": {},
   "outputs": [],
   "source": [
    "#import needed libraries\n",
    "\n",
    "import librosa as lb #used for feature extracion and resampling\n",
    "import numpy as np \n",
    "import matplotlib.pyplot as plt\n",
    "import librosa.display #builds on matplotlib to draw nice spectrograms.\n",
    "import IPython.display as ipd #used to play .wav files from notebook\n",
    "import pandas as pd \n",
    "# from scipy.io import wavfile #can be used to import .wav files but does not work on 24 bit depth audio files\n",
    "\n",
    "\n",
    "import soundfile as sf #soundfile enables loading 24 bit depth audio files.\n",
    "import time #used to measure code runtime. \n",
    "import glob\n",
    "from collections import defaultdict\n",
    "import pickle\n",
    "import seaborn as sns"
   ]
  },
  {
   "cell_type": "code",
   "execution_count": 2,
   "metadata": {},
   "outputs": [],
   "source": [
    "#functions to be used in this exercise:\n",
    "\n",
    "#function to read wave file and get numpy file:\n",
    "\n",
    "def ReadAudio(filename):\n",
    "    x,sr=sf.read(filename)\n",
    "    x=np.array(x)\n",
    "    x=x.T\n",
    "    #x=x.T #transpose to match format of librosa array representation\n",
    "    #set sample rate at 22050 to reduce memory usage. \n",
    "    #x=lb.resample(x,sr,22050)\n",
    "        \n",
    "    #change any stereo audio to mono.\n",
    "    if x.shape[0] ==2:\n",
    "        x=lb.to_mono(x)\n",
    "     \n",
    "    #change to a list.\n",
    "    x=list(x)\n",
    "    return x,sr\n",
    "\n",
    "\n",
    "#function to check length of sound file (number of samples) and increase it till it is equal to numSamples\n",
    "def IncreaseNumSamples(sound,numSamples):\n",
    "    if len(sound)<numSamples:\n",
    "        newSound=sound+[0]*(numSamples-len(sound))\n",
    "    else:\n",
    "        newSound=sound\n",
    "    return newSound\n",
    "\n"
   ]
  },
  {
   "cell_type": "markdown",
   "metadata": {},
   "source": [
    "TrainFiles=glob.glob('train\\*.wav')\n",
    "TestFiles=glob.glob('test\\*.wav')\n"
   ]
  },
  {
   "cell_type": "markdown",
   "metadata": {},
   "source": [
    "#Audios=defaultdict(list)\n",
    "Props=defaultdict(list)\n",
    "\n",
    "\n",
    "for file in TrainFiles:\n",
    "\n",
    "    AudioList,SR=ReadAudio(file) #sampling rate, id, and array of the sound are saved into a dict\n",
    "\n",
    "    Props['ID'].append(file)\n",
    "    Props['SR'].append(SR)\n",
    "    Props['length'].append(len(AudioList))\n",
    "    Props['Max'].append(max(AudioList))\n",
    "    Props['Min'].append(min(AudioList))\n",
    "    Props['Average'].append(sum(AudioList)/len(AudioList))\n",
    "\n",
    "for file in TestFiles:\n",
    "    \n",
    "    AudioList,SR=ReadAudio(file) #sampling rate, id, and array of the sound are saved into a dict\n",
    "\n",
    "    Props['ID'].append(file)\n",
    "    Props['SR'].append(SR)\n",
    "    Props['length'].append(len(AudioList))\n",
    "    Props['Max'].append(max(AudioList))\n",
    "    Props['Min'].append(min(AudioList))\n",
    "    Props['Average'].append(sum(AudioList)/len(AudioList))\n",
    "\n",
    "        \n",
    "        \n"
   ]
  },
  {
   "cell_type": "markdown",
   "metadata": {},
   "source": [
    "PropsDF=pd.DataFrame.from_dict(Props)\n",
    "PropsDF['Duration']=PropsDF['length']/PropsDF['SR']\n",
    "assert len(PropsDF.index.unique())==len(PropsDF.index)\n",
    "with open('DataSummary/SummaryDF.pickle', 'wb') as handle:\n",
    "    pickle.dump(PropsDF, handle, protocol=pickle.HIGHEST_PROTOCOL)\n"
   ]
  },
  {
   "cell_type": "code",
   "execution_count": 3,
   "metadata": {},
   "outputs": [
    {
     "name": "stdout",
     "output_type": "stream",
     "text": [
      "<class 'pandas.core.frame.DataFrame'>\n",
      "RangeIndex: 5435 entries, 0 to 5434\n",
      "Data columns (total 2 columns):\n",
      "ID       5435 non-null float64\n",
      "Class    5435 non-null object\n",
      "dtypes: float64(1), object(1)\n",
      "memory usage: 85.0+ KB\n",
      "None\n",
      "<class 'pandas.core.frame.DataFrame'>\n",
      "RangeIndex: 8732 entries, 0 to 8731\n",
      "Data columns (total 7 columns):\n",
      "ID          8732 non-null object\n",
      "SR          8732 non-null int64\n",
      "length      8732 non-null int64\n",
      "Max         8732 non-null float64\n",
      "Min         8732 non-null float64\n",
      "Average     8732 non-null float64\n",
      "Duration    8732 non-null float64\n",
      "dtypes: float64(4), int64(2), object(1)\n",
      "memory usage: 477.6+ KB\n",
      "None\n"
     ]
    }
   ],
   "source": [
    "#Start From Here\n",
    "with open('DataSummary/SummaryDF.pickle', 'rb') as handle:\n",
    "    PropsDF=pickle.load(handle)\n",
    "    \n",
    "Category=pd.read_csv('train.csv')\n",
    "Category['ID']=Category['ID'].astype('float64')\n",
    "print(Category.info())\n",
    "print(PropsDF.info())\n"
   ]
  },
  {
   "cell_type": "code",
   "execution_count": 4,
   "metadata": {},
   "outputs": [
    {
     "name": "stdout",
     "output_type": "stream",
     "text": [
      "<class 'pandas.core.frame.DataFrame'>\n",
      "RangeIndex: 8732 entries, 0 to 8731\n",
      "Data columns (total 8 columns):\n",
      "ID          8732 non-null object\n",
      "SR          8732 non-null int64\n",
      "length      8732 non-null int64\n",
      "Max         8732 non-null float64\n",
      "Min         8732 non-null float64\n",
      "Average     8732 non-null float64\n",
      "Duration    8732 non-null float64\n",
      "RealID      8732 non-null int64\n",
      "dtypes: float64(4), int64(3), object(1)\n",
      "memory usage: 545.8+ KB\n"
     ]
    }
   ],
   "source": [
    "PropsDF['RealID']=PropsDF.apply(lambda row: row['ID'][6:-4] if row['ID'][:2]=='tr' else row['ID'][5:-4],axis=1)\n",
    "\n",
    "PropsDF.RealID=pd.to_numeric(PropsDF.RealID)\n",
    "PropsDF.info()"
   ]
  },
  {
   "cell_type": "code",
   "execution_count": 5,
   "metadata": {},
   "outputs": [],
   "source": [
    "PropsDF=pd.merge(PropsDF,Category,how='left',left_on='RealID',right_on='ID')"
   ]
  },
  {
   "cell_type": "code",
   "execution_count": 6,
   "metadata": {},
   "outputs": [
    {
     "name": "stdout",
     "output_type": "stream",
     "text": [
      "<class 'pandas.core.frame.DataFrame'>\n",
      "Int64Index: 8732 entries, 0 to 8731\n",
      "Data columns (total 10 columns):\n",
      "ID_x        8732 non-null object\n",
      "SR          8732 non-null int64\n",
      "length      8732 non-null int64\n",
      "Max         8732 non-null float64\n",
      "Min         8732 non-null float64\n",
      "Average     8732 non-null float64\n",
      "Duration    8732 non-null float64\n",
      "RealID      8732 non-null int64\n",
      "ID_y        5435 non-null float64\n",
      "Class       5435 non-null object\n",
      "dtypes: float64(5), int64(3), object(2)\n",
      "memory usage: 750.4+ KB\n"
     ]
    }
   ],
   "source": [
    "PropsDF.info()"
   ]
  },
  {
   "cell_type": "code",
   "execution_count": 7,
   "metadata": {},
   "outputs": [],
   "source": [
    "with open('DataSummary/SummaryDFWithLabels.pickle', 'wb') as handle:\n",
    "    pickle.dump(PropsDF,handle)"
   ]
  },
  {
   "cell_type": "code",
   "execution_count": 8,
   "metadata": {},
   "outputs": [
    {
     "data": {
      "text/plain": [
       "Text(0.5,1,'samplingRate Distribution')"
      ]
     },
     "execution_count": 8,
     "metadata": {},
     "output_type": "execute_result"
    },
    {
     "data": {
      "image/png": "[encoded data removed]",
      "text/plain": [
       "<Figure size 432x288 with 1 Axes>"
      ]
     },
     "metadata": {},
     "output_type": "display_data"
    }
   ],
   "source": [
    "PropsDF['SR'].value_counts().plot(kind='bar')\n",
    "plt.xlabel('Sampling Rate')\n",
    "plt.ylabel('Count')\n",
    "plt.title('samplingRate Distribution')"
   ]
  },
  {
   "cell_type": "code",
   "execution_count": 9,
   "metadata": {},
   "outputs": [
    {
     "data": {
      "text/plain": [
       "Text(0.5,1,'Duration Distribution')"
      ]
     },
     "execution_count": 9,
     "metadata": {},
     "output_type": "execute_result"
    },
    {
     "data": {
      "image/png": "[encoded data removed]",
      "text/plain": [
       "<Figure size 432x288 with 1 Axes>"
      ]
     },
     "metadata": {},
     "output_type": "display_data"
    }
   ],
   "source": [
    "PropsDF['Duration'].hist(bins=20)\n",
    "plt.xlabel('Duration')\n",
    "plt.ylabel('Count')\n",
    "plt.title('Duration Distribution')"
   ]
  },
  {
   "cell_type": "code",
   "execution_count": 10,
   "metadata": {},
   "outputs": [
    {
     "data": {
      "text/plain": [
       "Text(0.5,1,'Labels Distribution')"
      ]
     },
     "execution_count": 10,
     "metadata": {},
     "output_type": "execute_result"
    },
    {
     "data": {
      "image/png": "[encoded data removed]",
      "text/plain": [
       "<Figure size 432x288 with 1 Axes>"
      ]
     },
     "metadata": {},
     "output_type": "display_data"
    }
   ],
   "source": [
    "PropsDF['Class'].value_counts().plot(kind='bar')\n",
    "plt.xlabel('Category')\n",
    "plt.ylabel('Count')\n",
    "plt.title('Labels Distribution')"
   ]
  },
  {
   "cell_type": "code",
   "execution_count": null,
   "metadata": {},
   "outputs": [],
   "source": []
  }
 ],
 "metadata": {
  "kernelspec": {
   "display_name": "Python 3",
   "language": "python",
   "name": "python3"
  },
  "language_info": {
   "codemirror_mode": {
    "name": "ipython",
    "version": 3
   },
   "file_extension": ".py",
   "mimetype": "text/x-python",
   "name": "python",
   "nbconvert_exporter": "python",
   "pygments_lexer": "ipython3",
   "version": "3.6.5"
  }
 },
 "nbformat": 4,
 "nbformat_minor": 2
}
