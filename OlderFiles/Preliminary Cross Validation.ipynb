{
 "cells": [
  {
   "cell_type": "code",
   "execution_count": 1,
   "metadata": {},
   "outputs": [],
   "source": [
    "import numpy as np\n",
    "import pandas as pd\n",
    "import matplotlib.pyplot as plt\n",
    "import pickle\n",
    "import scipy.stats as stats\n",
    "import soundfile as sf\n",
    "import librosa \n",
    "from collections import defaultdict\n",
    "import seaborn as sns\n",
    "import scipy.stats as stats\n",
    "\n"
   ]
  },
  {
   "cell_type": "code",
   "execution_count": 2,
   "metadata": {},
   "outputs": [
    {
     "data": {
      "text/html": [
       "<div>\n",
       "<style scoped>\n",
       "    .dataframe tbody tr th:only-of-type {\n",
       "        vertical-align: middle;\n",
       "    }\n",
       "\n",
       "    .dataframe tbody tr th {\n",
       "        vertical-align: top;\n",
       "    }\n",
       "\n",
       "    .dataframe thead th {\n",
       "        text-align: right;\n",
       "    }\n",
       "</style>\n",
       "<table border=\"1\" class=\"dataframe\">\n",
       "  <thead>\n",
       "    <tr style=\"text-align: right;\">\n",
       "      <th></th>\n",
       "      <th>label</th>\n",
       "      <th>ID</th>\n",
       "      <th>0</th>\n",
       "      <th>1</th>\n",
       "      <th>2</th>\n",
       "      <th>3</th>\n",
       "      <th>4</th>\n",
       "      <th>5</th>\n",
       "      <th>6</th>\n",
       "      <th>7</th>\n",
       "      <th>...</th>\n",
       "      <th>183</th>\n",
       "      <th>184</th>\n",
       "      <th>185</th>\n",
       "      <th>186</th>\n",
       "      <th>187</th>\n",
       "      <th>188</th>\n",
       "      <th>189</th>\n",
       "      <th>190</th>\n",
       "      <th>191</th>\n",
       "      <th>192</th>\n",
       "    </tr>\n",
       "  </thead>\n",
       "  <tbody>\n",
       "    <tr>\n",
       "      <th>0</th>\n",
       "      <td>siren</td>\n",
       "      <td>0</td>\n",
       "      <td>-75.095718</td>\n",
       "      <td>129.611845</td>\n",
       "      <td>-32.669896</td>\n",
       "      <td>15.285440</td>\n",
       "      <td>-2.378206</td>\n",
       "      <td>14.626389</td>\n",
       "      <td>-3.764634</td>\n",
       "      <td>17.962046</td>\n",
       "      <td>...</td>\n",
       "      <td>13.581585</td>\n",
       "      <td>15.363748</td>\n",
       "      <td>15.579746</td>\n",
       "      <td>35.387735</td>\n",
       "      <td>-0.004255</td>\n",
       "      <td>0.014481</td>\n",
       "      <td>-0.040944</td>\n",
       "      <td>0.001575</td>\n",
       "      <td>-0.005375</td>\n",
       "      <td>0.005263</td>\n",
       "    </tr>\n",
       "    <tr>\n",
       "      <th>1</th>\n",
       "      <td>siren</td>\n",
       "      <td>1017</td>\n",
       "      <td>-529.822549</td>\n",
       "      <td>3.207651</td>\n",
       "      <td>-39.342830</td>\n",
       "      <td>-4.806191</td>\n",
       "      <td>-1.510516</td>\n",
       "      <td>11.538968</td>\n",
       "      <td>6.360950</td>\n",
       "      <td>0.175858</td>\n",
       "      <td>...</td>\n",
       "      <td>40.240238</td>\n",
       "      <td>39.600647</td>\n",
       "      <td>35.088244</td>\n",
       "      <td>39.409279</td>\n",
       "      <td>0.000226</td>\n",
       "      <td>-0.003061</td>\n",
       "      <td>-0.005560</td>\n",
       "      <td>0.049707</td>\n",
       "      <td>-0.004167</td>\n",
       "      <td>-0.008515</td>\n",
       "    </tr>\n",
       "    <tr>\n",
       "      <th>2</th>\n",
       "      <td>siren</td>\n",
       "      <td>1068</td>\n",
       "      <td>-321.691683</td>\n",
       "      <td>142.703895</td>\n",
       "      <td>-29.068545</td>\n",
       "      <td>19.488420</td>\n",
       "      <td>-2.804571</td>\n",
       "      <td>17.805163</td>\n",
       "      <td>4.255999</td>\n",
       "      <td>7.789272</td>\n",
       "      <td>...</td>\n",
       "      <td>24.381119</td>\n",
       "      <td>26.783475</td>\n",
       "      <td>24.162785</td>\n",
       "      <td>38.694912</td>\n",
       "      <td>0.025281</td>\n",
       "      <td>0.024722</td>\n",
       "      <td>-0.127286</td>\n",
       "      <td>-0.032569</td>\n",
       "      <td>-0.006869</td>\n",
       "      <td>0.021095</td>\n",
       "    </tr>\n",
       "    <tr>\n",
       "      <th>3</th>\n",
       "      <td>siren</td>\n",
       "      <td>1069</td>\n",
       "      <td>-251.963839</td>\n",
       "      <td>114.677643</td>\n",
       "      <td>-70.299636</td>\n",
       "      <td>-5.654069</td>\n",
       "      <td>-33.883682</td>\n",
       "      <td>21.279570</td>\n",
       "      <td>9.678297</td>\n",
       "      <td>9.592076</td>\n",
       "      <td>...</td>\n",
       "      <td>24.619884</td>\n",
       "      <td>26.538950</td>\n",
       "      <td>24.144203</td>\n",
       "      <td>38.025016</td>\n",
       "      <td>-0.009540</td>\n",
       "      <td>0.018023</td>\n",
       "      <td>-0.037589</td>\n",
       "      <td>0.059820</td>\n",
       "      <td>-0.017432</td>\n",
       "      <td>-0.004185</td>\n",
       "    </tr>\n",
       "    <tr>\n",
       "      <th>4</th>\n",
       "      <td>siren</td>\n",
       "      <td>1116</td>\n",
       "      <td>-341.286762</td>\n",
       "      <td>148.386037</td>\n",
       "      <td>-19.530048</td>\n",
       "      <td>12.357504</td>\n",
       "      <td>10.122546</td>\n",
       "      <td>25.564659</td>\n",
       "      <td>22.492980</td>\n",
       "      <td>11.057594</td>\n",
       "      <td>...</td>\n",
       "      <td>13.280341</td>\n",
       "      <td>15.284006</td>\n",
       "      <td>16.753369</td>\n",
       "      <td>29.313002</td>\n",
       "      <td>0.001852</td>\n",
       "      <td>0.002387</td>\n",
       "      <td>0.011851</td>\n",
       "      <td>0.003681</td>\n",
       "      <td>0.024676</td>\n",
       "      <td>-0.008621</td>\n",
       "    </tr>\n",
       "  </tbody>\n",
       "</table>\n",
       "<p>5 rows × 195 columns</p>\n",
       "</div>"
      ],
      "text/plain": [
       "   label    ID           0           1          2          3          4  \\\n",
       "0  siren     0  -75.095718  129.611845 -32.669896  15.285440  -2.378206   \n",
       "1  siren  1017 -529.822549    3.207651 -39.342830  -4.806191  -1.510516   \n",
       "2  siren  1068 -321.691683  142.703895 -29.068545  19.488420  -2.804571   \n",
       "3  siren  1069 -251.963839  114.677643 -70.299636  -5.654069 -33.883682   \n",
       "4  siren  1116 -341.286762  148.386037 -19.530048  12.357504  10.122546   \n",
       "\n",
       "           5          6          7    ...           183        184        185  \\\n",
       "0  14.626389  -3.764634  17.962046    ...     13.581585  15.363748  15.579746   \n",
       "1  11.538968   6.360950   0.175858    ...     40.240238  39.600647  35.088244   \n",
       "2  17.805163   4.255999   7.789272    ...     24.381119  26.783475  24.162785   \n",
       "3  21.279570   9.678297   9.592076    ...     24.619884  26.538950  24.144203   \n",
       "4  25.564659  22.492980  11.057594    ...     13.280341  15.284006  16.753369   \n",
       "\n",
       "         186       187       188       189       190       191       192  \n",
       "0  35.387735 -0.004255  0.014481 -0.040944  0.001575 -0.005375  0.005263  \n",
       "1  39.409279  0.000226 -0.003061 -0.005560  0.049707 -0.004167 -0.008515  \n",
       "2  38.694912  0.025281  0.024722 -0.127286 -0.032569 -0.006869  0.021095  \n",
       "3  38.025016 -0.009540  0.018023 -0.037589  0.059820 -0.017432 -0.004185  \n",
       "4  29.313002  0.001852  0.002387  0.011851  0.003681  0.024676 -0.008621  \n",
       "\n",
       "[5 rows x 195 columns]"
      ]
     },
     "execution_count": 2,
     "metadata": {},
     "output_type": "execute_result"
    }
   ],
   "source": [
    "with open('Features/Features.pickle','rb') as file:\n",
    "    DF=pickle.load(file)\n",
    "    \n",
    "for i in range(193):\n",
    "    vector=[]\n",
    "    for j in range(len(DF)):\n",
    "        vector.append(DF.iloc[j,2][i])\n",
    "    vector=np.array(vector)\n",
    "    DF[i]=vector\n",
    "\n",
    "DF=DF.drop('FeatureVector',axis=1)\n",
    "DF.head()"
   ]
  },
  {
   "cell_type": "code",
   "execution_count": 5,
   "metadata": {},
   "outputs": [
    {
     "data": {
      "text/plain": [
       "(5435, 195)"
      ]
     },
     "execution_count": 5,
     "metadata": {},
     "output_type": "execute_result"
    }
   ],
   "source": [
    "DF.shape"
   ]
  },
  {
   "cell_type": "code",
   "execution_count": 7,
   "metadata": {},
   "outputs": [
    {
     "data": {
      "text/html": [
       "<div>\n",
       "<style scoped>\n",
       "    .dataframe tbody tr th:only-of-type {\n",
       "        vertical-align: middle;\n",
       "    }\n",
       "\n",
       "    .dataframe tbody tr th {\n",
       "        vertical-align: top;\n",
       "    }\n",
       "\n",
       "    .dataframe thead th {\n",
       "        text-align: right;\n",
       "    }\n",
       "</style>\n",
       "<table border=\"1\" class=\"dataframe\">\n",
       "  <thead>\n",
       "    <tr style=\"text-align: right;\">\n",
       "      <th></th>\n",
       "      <th>label</th>\n",
       "      <th>ID</th>\n",
       "      <th>0</th>\n",
       "      <th>1</th>\n",
       "      <th>2</th>\n",
       "      <th>3</th>\n",
       "      <th>4</th>\n",
       "      <th>5</th>\n",
       "      <th>6</th>\n",
       "      <th>7</th>\n",
       "      <th>...</th>\n",
       "      <th>183</th>\n",
       "      <th>184</th>\n",
       "      <th>185</th>\n",
       "      <th>186</th>\n",
       "      <th>187</th>\n",
       "      <th>188</th>\n",
       "      <th>189</th>\n",
       "      <th>190</th>\n",
       "      <th>191</th>\n",
       "      <th>192</th>\n",
       "    </tr>\n",
       "  </thead>\n",
       "  <tbody>\n",
       "    <tr>\n",
       "      <th>3572</th>\n",
       "      <td>drilling</td>\n",
       "      <td>3459</td>\n",
       "      <td>-93.604630</td>\n",
       "      <td>53.792983</td>\n",
       "      <td>24.850721</td>\n",
       "      <td>2.481674</td>\n",
       "      <td>-6.618878</td>\n",
       "      <td>15.039431</td>\n",
       "      <td>-17.725997</td>\n",
       "      <td>13.145317</td>\n",
       "      <td>...</td>\n",
       "      <td>14.201751</td>\n",
       "      <td>15.330638</td>\n",
       "      <td>16.585992</td>\n",
       "      <td>35.239142</td>\n",
       "      <td>0.003201</td>\n",
       "      <td>0.016362</td>\n",
       "      <td>0.040827</td>\n",
       "      <td>0.008147</td>\n",
       "      <td>-0.006355</td>\n",
       "      <td>-0.015162</td>\n",
       "    </tr>\n",
       "    <tr>\n",
       "      <th>5178</th>\n",
       "      <td>engine_idling</td>\n",
       "      <td>5791</td>\n",
       "      <td>-226.136916</td>\n",
       "      <td>90.987329</td>\n",
       "      <td>-9.427117</td>\n",
       "      <td>-0.758044</td>\n",
       "      <td>-1.765651</td>\n",
       "      <td>8.907143</td>\n",
       "      <td>-4.451681</td>\n",
       "      <td>2.775345</td>\n",
       "      <td>...</td>\n",
       "      <td>14.499373</td>\n",
       "      <td>14.917280</td>\n",
       "      <td>14.887299</td>\n",
       "      <td>31.810821</td>\n",
       "      <td>-0.010275</td>\n",
       "      <td>-0.014379</td>\n",
       "      <td>-0.056187</td>\n",
       "      <td>0.008376</td>\n",
       "      <td>0.005219</td>\n",
       "      <td>-0.015223</td>\n",
       "    </tr>\n",
       "    <tr>\n",
       "      <th>2362</th>\n",
       "      <td>dog_bark</td>\n",
       "      <td>8382</td>\n",
       "      <td>-350.997488</td>\n",
       "      <td>167.984327</td>\n",
       "      <td>-19.633620</td>\n",
       "      <td>-27.341125</td>\n",
       "      <td>-10.514517</td>\n",
       "      <td>-28.088911</td>\n",
       "      <td>-39.121422</td>\n",
       "      <td>-20.836970</td>\n",
       "      <td>...</td>\n",
       "      <td>18.179906</td>\n",
       "      <td>21.881613</td>\n",
       "      <td>20.007374</td>\n",
       "      <td>33.420140</td>\n",
       "      <td>-0.004077</td>\n",
       "      <td>-0.000823</td>\n",
       "      <td>0.012293</td>\n",
       "      <td>-0.007651</td>\n",
       "      <td>-0.019498</td>\n",
       "      <td>0.001046</td>\n",
       "    </tr>\n",
       "    <tr>\n",
       "      <th>202</th>\n",
       "      <td>siren</td>\n",
       "      <td>3585</td>\n",
       "      <td>-492.739549</td>\n",
       "      <td>140.628001</td>\n",
       "      <td>-28.137953</td>\n",
       "      <td>14.006551</td>\n",
       "      <td>-15.302229</td>\n",
       "      <td>20.158710</td>\n",
       "      <td>5.318891</td>\n",
       "      <td>3.450800</td>\n",
       "      <td>...</td>\n",
       "      <td>20.720995</td>\n",
       "      <td>21.156674</td>\n",
       "      <td>20.683819</td>\n",
       "      <td>32.589278</td>\n",
       "      <td>-0.003551</td>\n",
       "      <td>0.012170</td>\n",
       "      <td>-0.020184</td>\n",
       "      <td>-0.013719</td>\n",
       "      <td>0.004488</td>\n",
       "      <td>0.001264</td>\n",
       "    </tr>\n",
       "    <tr>\n",
       "      <th>2538</th>\n",
       "      <td>jackhammer</td>\n",
       "      <td>2503</td>\n",
       "      <td>-90.994338</td>\n",
       "      <td>111.146245</td>\n",
       "      <td>-24.899062</td>\n",
       "      <td>9.462462</td>\n",
       "      <td>11.383995</td>\n",
       "      <td>9.167177</td>\n",
       "      <td>4.624107</td>\n",
       "      <td>0.776687</td>\n",
       "      <td>...</td>\n",
       "      <td>13.897881</td>\n",
       "      <td>16.667155</td>\n",
       "      <td>17.512857</td>\n",
       "      <td>32.275210</td>\n",
       "      <td>-0.005057</td>\n",
       "      <td>0.017089</td>\n",
       "      <td>0.045542</td>\n",
       "      <td>0.007716</td>\n",
       "      <td>-0.005931</td>\n",
       "      <td>-0.015916</td>\n",
       "    </tr>\n",
       "  </tbody>\n",
       "</table>\n",
       "<p>5 rows × 195 columns</p>\n",
       "</div>"
      ],
      "text/plain": [
       "              label    ID           0           1          2          3  \\\n",
       "3572       drilling  3459  -93.604630   53.792983  24.850721   2.481674   \n",
       "5178  engine_idling  5791 -226.136916   90.987329  -9.427117  -0.758044   \n",
       "2362       dog_bark  8382 -350.997488  167.984327 -19.633620 -27.341125   \n",
       "202           siren  3585 -492.739549  140.628001 -28.137953  14.006551   \n",
       "2538     jackhammer  2503  -90.994338  111.146245 -24.899062   9.462462   \n",
       "\n",
       "              4          5          6          7    ...           183  \\\n",
       "3572  -6.618878  15.039431 -17.725997  13.145317    ...     14.201751   \n",
       "5178  -1.765651   8.907143  -4.451681   2.775345    ...     14.499373   \n",
       "2362 -10.514517 -28.088911 -39.121422 -20.836970    ...     18.179906   \n",
       "202  -15.302229  20.158710   5.318891   3.450800    ...     20.720995   \n",
       "2538  11.383995   9.167177   4.624107   0.776687    ...     13.897881   \n",
       "\n",
       "            184        185        186       187       188       189       190  \\\n",
       "3572  15.330638  16.585992  35.239142  0.003201  0.016362  0.040827  0.008147   \n",
       "5178  14.917280  14.887299  31.810821 -0.010275 -0.014379 -0.056187  0.008376   \n",
       "2362  21.881613  20.007374  33.420140 -0.004077 -0.000823  0.012293 -0.007651   \n",
       "202   21.156674  20.683819  32.589278 -0.003551  0.012170 -0.020184 -0.013719   \n",
       "2538  16.667155  17.512857  32.275210 -0.005057  0.017089  0.045542  0.007716   \n",
       "\n",
       "           191       192  \n",
       "3572 -0.006355 -0.015162  \n",
       "5178  0.005219 -0.015223  \n",
       "2362 -0.019498  0.001046  \n",
       "202   0.004488  0.001264  \n",
       "2538 -0.005931 -0.015916  \n",
       "\n",
       "[5 rows x 195 columns]"
      ]
     },
     "execution_count": 7,
     "metadata": {},
     "output_type": "execute_result"
    }
   ],
   "source": [
    "DF=DF.sample(n=len(DF)) #we shuffle the data frame so we dont get chunks data with similar class.\n",
    "DF.head()\n"
   ]
  },
  {
   "cell_type": "code",
   "execution_count": 15,
   "metadata": {},
   "outputs": [],
   "source": [
    "X_train=DF.iloc[:,2:].values\n",
    "Y_train=DF.iloc[:,0].values"
   ]
  },
  {
   "cell_type": "markdown",
   "metadata": {},
   "source": [
    "## Methodology. \n",
    "\n",
    "Our training data set consists of 5435 samples. Each sample has 193 features. We train various algorithms and tune their parameters using k-fold cross-validation."
   ]
  },
  {
   "cell_type": "markdown",
   "metadata": {},
   "source": [
    "## we begin with the k-NN algorithm."
   ]
  },
  {
   "cell_type": "code",
   "execution_count": 33,
   "metadata": {},
   "outputs": [
    {
     "name": "stdout",
     "output_type": "stream",
     "text": [
      "1\n",
      "3\n",
      "5\n",
      "7\n",
      "9\n",
      "11\n",
      "13\n"
     ]
    }
   ],
   "source": [
    "#For our first algorithm we try the k-NN algorithm. The only parameter here to be tuned is the k parameter.\n",
    "\n",
    "from sklearn.neighbors import KNeighborsClassifier\n",
    "from sklearn.model_selection import cross_val_score\n",
    "\n",
    "NumFolds=10\n",
    "N=[1,3,5,7,9,11,13] #potential values for K\n",
    "scores=np.empty((len(N),NumFolds))\n",
    "\n",
    "for i,n in enumerate(N):\n",
    "    print(n)\n",
    "    neigh = KNeighborsClassifier(n_neighbors=n)\n",
    "    scores[i,:]=cross_val_score(neigh,X_train,Y_train,cv=NumFolds)\n",
    "    \n"
   ]
  },
  {
   "cell_type": "code",
   "execution_count": 34,
   "metadata": {},
   "outputs": [
    {
     "data": {
      "image/png": "[encoded data removed]",
      "text/plain": [
       "<Figure size 432x288 with 1 Axes>"
      ]
     },
     "metadata": {},
     "output_type": "display_data"
    }
   ],
   "source": [
    "for i,n in enumerate(N):\n",
    "    plt.scatter(n*np.ones(NumFolds),scores[i,:])\n",
    "\n",
    "\n",
    "plt.plot(N,np.mean(scores,axis=1))\n",
    "plt.xticks(N)\n",
    "\n",
    "plt.xlabel('Hyperparameter K value')\n",
    "plt.ylabel('Accuracy Score range')\n",
    "\n",
    "plt.show()\n",
    "\n"
   ]
  },
  {
   "cell_type": "markdown",
   "metadata": {},
   "source": [
    "From the above, it seems like the 1-neighbour classifier seems to generalize best. This is a bit of a weird results as we are getting the most complex model to generalize best. Should look more into it."
   ]
  },
  {
   "cell_type": "markdown",
   "metadata": {},
   "source": [
    "## next we try the linear SVM algorithm, with hyperparameter C\n",
    "\n",
    "Large values of C increase regularization which should increase \"generalizability\". Low values of C should tend to over-fit the model."
   ]
  },
  {
   "cell_type": "code",
   "execution_count": 36,
   "metadata": {},
   "outputs": [
    {
     "name": "stdout",
     "output_type": "stream",
     "text": [
      "0.0001\n",
      "0.1\n",
      "1\n",
      "10\n",
      "100\n"
     ]
    }
   ],
   "source": [
    "from sklearn.svm import LinearSVC\n",
    "\n",
    "NumFolds=10\n",
    "C=[0.0001,0.1,1,10,100]\n",
    "scores=np.empty((len(C),NumFolds))\n",
    "\n",
    "for i,c in enumerate(C):\n",
    "    print(c)\n",
    "    clf = LinearSVC(dual=False,C=c)\n",
    "    scores[i,:]=cross_val_score(clf,X_train[:1000],Y_train[:1000],cv=NumFolds)\n",
    "\n",
    "    \n",
    "\n",
    "\n"
   ]
  },
  {
   "cell_type": "markdown",
   "metadata": {},
   "source": [
    "Above, we only ran the cross-validation with 1000 out of the 5435 samples due to long runtime. The above scheme will be re-run on the entire data."
   ]
  },
  {
   "cell_type": "code",
   "execution_count": 41,
   "metadata": {},
   "outputs": [
    {
     "data": {
      "image/png": "[encoded data removed]",
      "text/plain": [
       "<Figure size 432x288 with 1 Axes>"
      ]
     },
     "metadata": {},
     "output_type": "display_data"
    }
   ],
   "source": [
    "for i,c in enumerate(C):\n",
    "    plt.scatter(c*np.ones(NumFolds),scores[i,:])\n",
    "\n",
    "\n",
    "plt.plot(C,np.mean(scores,axis=1))\n",
    "plt.xticks(C)\n",
    "plt.semilogx()\n",
    "plt.xlabel('Hyperparameter C value (log scale)')\n",
    "plt.ylabel('Accuracy Score range')\n",
    "\n",
    "plt.show()\n"
   ]
  },
  {
   "cell_type": "markdown",
   "metadata": {},
   "source": [
    "Out of curiousity we try the same as above but with the L1 norm used for penalization instead (L2 is used by default)"
   ]
  },
  {
   "cell_type": "code",
   "execution_count": 42,
   "metadata": {},
   "outputs": [
    {
     "name": "stdout",
     "output_type": "stream",
     "text": [
      "0.0001\n",
      "0.1\n",
      "1\n",
      "10\n",
      "100\n"
     ]
    }
   ],
   "source": [
    "from sklearn.svm import LinearSVC\n",
    "\n",
    "NumFolds=10\n",
    "C=[0.0001,0.1,1,10,100]\n",
    "scores=np.empty((len(C),NumFolds))\n",
    "\n",
    "for i,c in enumerate(C):\n",
    "    print(c)\n",
    "    clf = LinearSVC(penalty='l1',dual=False,C=c)\n",
    "    scores[i,:]=cross_val_score(clf,X_train[:1000],Y_train[:1000],cv=NumFolds)\n",
    "\n",
    "    \n",
    "\n"
   ]
  },
  {
   "cell_type": "code",
   "execution_count": 43,
   "metadata": {},
   "outputs": [
    {
     "data": {
      "image/png": "[encoded data removed]",
      "text/plain": [
       "<Figure size 432x288 with 1 Axes>"
      ]
     },
     "metadata": {},
     "output_type": "display_data"
    }
   ],
   "source": [
    "for i,c in enumerate(C):\n",
    "    plt.scatter(c*np.ones(NumFolds),scores[i,:])\n",
    "\n",
    "\n",
    "plt.plot(C,np.mean(scores,axis=1))\n",
    "plt.xticks(C)\n",
    "plt.semilogx()\n",
    "plt.xlabel('Hyperparameter C value (log scale)')\n",
    "plt.ylabel('Accuracy Score range')\n",
    "\n",
    "plt.show()\n",
    "\n"
   ]
  },
  {
   "cell_type": "code",
   "execution_count": null,
   "metadata": {},
   "outputs": [],
   "source": []
  }
 ],
 "metadata": {
  "kernelspec": {
   "display_name": "Python 3",
   "language": "python",
   "name": "python3"
  },
  "language_info": {
   "codemirror_mode": {
    "name": "ipython",
    "version": 3
   },
   "file_extension": ".py",
   "mimetype": "text/x-python",
   "name": "python",
   "nbconvert_exporter": "python",
   "pygments_lexer": "ipython3",
   "version": "3.6.5"
  }
 },
 "nbformat": 4,
 "nbformat_minor": 2
}
