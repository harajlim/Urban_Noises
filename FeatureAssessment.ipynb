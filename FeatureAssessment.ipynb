{
 "cells": [
  {
   "cell_type": "code",
   "execution_count": 1,
   "metadata": {},
   "outputs": [],
   "source": [
    "import urbanNoises\n",
    "import pickle\n",
    "import numpy as np\n",
    "import pandas as pd\n",
    "from scipy import stats\n",
    "import matplotlib.pyplot as plt"
   ]
  },
  {
   "cell_type": "markdown",
   "metadata": {},
   "source": [
    "# Feature Extraction:\n",
    "\n",
    "We use the write_features function from urbanNoises to create temporally averaged features for each sound."
   ]
  },
  {
   "cell_type": "code",
   "execution_count": 2,
   "metadata": {
    "scrolled": true
   },
   "outputs": [],
   "source": [
    "#urbanNoises.write_features()"
   ]
  },
  {
   "cell_type": "markdown",
   "metadata": {},
   "source": [
    "## Cleaning the data"
   ]
  },
  {
   "cell_type": "code",
   "execution_count": 3,
   "metadata": {},
   "outputs": [
    {
     "name": "stdout",
     "output_type": "stream",
     "text": [
      "0 Rows were dropped and 0 columns were dropped\n"
     ]
    }
   ],
   "source": [
    "with open('Data/pickles/MelFeatures.pickle', 'rb') as file:\n",
    "    mel=pickle.load(file)\n",
    "    \n",
    "with open('Data/pickles/MFCCFeatures.pickle', 'rb') as file:\n",
    "    MFCC=pickle.load(file)\n",
    "\n",
    "with open('Data/pickles/ChromaFeatures.pickle', 'rb') as file:\n",
    "    chroma=pickle.load(file)\n",
    "\n",
    "with open('Data/pickles/tonnetzFeatures.pickle', 'rb') as file:\n",
    "    tonnetz=pickle.load(file)\n",
    "\n",
    "info=pd.read_csv('Data/UrbanSound8K.csv')\n",
    "\n",
    "features=np.concatenate((mel, MFCC, chroma, tonnetz),axis=1)\n",
    "\n",
    "features=pd.DataFrame(features)\n",
    "\n",
    "info = pd.concat([info, features], axis=1) \n",
    "\n",
    "x1, y1 = info.shape\n",
    "\n",
    "info = info.dropna() #remove any features that were not succesfully calculated.\n",
    "\n",
    "x2, y2 = info.shape\n",
    "\n",
    "print('{} Rows were dropped and {} columns were dropped'.format(x1-x2,y1-y2))    \n",
    "\n"
   ]
  },
  {
   "cell_type": "code",
   "execution_count": 4,
   "metadata": {},
   "outputs": [],
   "source": [
    "labels=info['class'].unique()"
   ]
  },
  {
   "cell_type": "markdown",
   "metadata": {},
   "source": [
    "## Feature Assessment using a probabilistic approach:"
   ]
  },
  {
   "cell_type": "markdown",
   "metadata": {},
   "source": [
    "Split into training and testing:"
   ]
  },
  {
   "cell_type": "code",
   "execution_count": 5,
   "metadata": {},
   "outputs": [
    {
     "data": {
      "text/html": [
       "<div>\n",
       "<style scoped>\n",
       "    .dataframe tbody tr th:only-of-type {\n",
       "        vertical-align: middle;\n",
       "    }\n",
       "\n",
       "    .dataframe tbody tr th {\n",
       "        vertical-align: top;\n",
       "    }\n",
       "\n",
       "    .dataframe thead th {\n",
       "        text-align: right;\n",
       "    }\n",
       "</style>\n",
       "<table border=\"1\" class=\"dataframe\">\n",
       "  <thead>\n",
       "    <tr style=\"text-align: right;\">\n",
       "      <th></th>\n",
       "      <th>slice_file_name</th>\n",
       "      <th>fsID</th>\n",
       "      <th>start</th>\n",
       "      <th>end</th>\n",
       "      <th>salience</th>\n",
       "      <th>fold</th>\n",
       "      <th>classID</th>\n",
       "      <th>class</th>\n",
       "      <th>0</th>\n",
       "      <th>1</th>\n",
       "      <th>...</th>\n",
       "      <th>176</th>\n",
       "      <th>177</th>\n",
       "      <th>178</th>\n",
       "      <th>179</th>\n",
       "      <th>180</th>\n",
       "      <th>181</th>\n",
       "      <th>182</th>\n",
       "      <th>183</th>\n",
       "      <th>184</th>\n",
       "      <th>185</th>\n",
       "    </tr>\n",
       "  </thead>\n",
       "  <tbody>\n",
       "    <tr>\n",
       "      <th>0</th>\n",
       "      <td>100032-3-0-0.wav</td>\n",
       "      <td>100032</td>\n",
       "      <td>0.0</td>\n",
       "      <td>0.317551</td>\n",
       "      <td>1</td>\n",
       "      <td>5</td>\n",
       "      <td>3</td>\n",
       "      <td>dog_bark</td>\n",
       "      <td>0.000027</td>\n",
       "      <td>0.000222</td>\n",
       "      <td>...</td>\n",
       "      <td>0.914163</td>\n",
       "      <td>0.788859</td>\n",
       "      <td>0.482100</td>\n",
       "      <td>0.497833</td>\n",
       "      <td>0.021190</td>\n",
       "      <td>-0.010982</td>\n",
       "      <td>-0.133131</td>\n",
       "      <td>0.094218</td>\n",
       "      <td>-0.012384</td>\n",
       "      <td>0.009034</td>\n",
       "    </tr>\n",
       "    <tr>\n",
       "      <th>1</th>\n",
       "      <td>100263-2-0-117.wav</td>\n",
       "      <td>100263</td>\n",
       "      <td>58.5</td>\n",
       "      <td>62.500000</td>\n",
       "      <td>1</td>\n",
       "      <td>5</td>\n",
       "      <td>2</td>\n",
       "      <td>children_playing</td>\n",
       "      <td>0.049700</td>\n",
       "      <td>0.049527</td>\n",
       "      <td>...</td>\n",
       "      <td>0.617903</td>\n",
       "      <td>0.675770</td>\n",
       "      <td>0.693920</td>\n",
       "      <td>0.684928</td>\n",
       "      <td>-0.006520</td>\n",
       "      <td>0.004458</td>\n",
       "      <td>-0.008590</td>\n",
       "      <td>-0.001745</td>\n",
       "      <td>-0.004053</td>\n",
       "      <td>-0.000320</td>\n",
       "    </tr>\n",
       "    <tr>\n",
       "      <th>2</th>\n",
       "      <td>100263-2-0-121.wav</td>\n",
       "      <td>100263</td>\n",
       "      <td>60.5</td>\n",
       "      <td>64.500000</td>\n",
       "      <td>1</td>\n",
       "      <td>5</td>\n",
       "      <td>2</td>\n",
       "      <td>children_playing</td>\n",
       "      <td>0.030849</td>\n",
       "      <td>0.028020</td>\n",
       "      <td>...</td>\n",
       "      <td>0.636775</td>\n",
       "      <td>0.646543</td>\n",
       "      <td>0.723038</td>\n",
       "      <td>0.750797</td>\n",
       "      <td>-0.013711</td>\n",
       "      <td>0.031615</td>\n",
       "      <td>-0.050797</td>\n",
       "      <td>0.020023</td>\n",
       "      <td>0.011620</td>\n",
       "      <td>0.009686</td>\n",
       "    </tr>\n",
       "    <tr>\n",
       "      <th>3</th>\n",
       "      <td>100263-2-0-126.wav</td>\n",
       "      <td>100263</td>\n",
       "      <td>63.0</td>\n",
       "      <td>67.000000</td>\n",
       "      <td>1</td>\n",
       "      <td>5</td>\n",
       "      <td>2</td>\n",
       "      <td>children_playing</td>\n",
       "      <td>0.026511</td>\n",
       "      <td>0.032827</td>\n",
       "      <td>...</td>\n",
       "      <td>0.626030</td>\n",
       "      <td>0.636564</td>\n",
       "      <td>0.666254</td>\n",
       "      <td>0.679418</td>\n",
       "      <td>0.001021</td>\n",
       "      <td>0.021068</td>\n",
       "      <td>-0.009772</td>\n",
       "      <td>0.007726</td>\n",
       "      <td>0.004001</td>\n",
       "      <td>0.006359</td>\n",
       "    </tr>\n",
       "    <tr>\n",
       "      <th>4</th>\n",
       "      <td>100263-2-0-137.wav</td>\n",
       "      <td>100263</td>\n",
       "      <td>68.5</td>\n",
       "      <td>72.500000</td>\n",
       "      <td>1</td>\n",
       "      <td>5</td>\n",
       "      <td>2</td>\n",
       "      <td>children_playing</td>\n",
       "      <td>0.061541</td>\n",
       "      <td>0.040469</td>\n",
       "      <td>...</td>\n",
       "      <td>0.595789</td>\n",
       "      <td>0.617314</td>\n",
       "      <td>0.691961</td>\n",
       "      <td>0.827252</td>\n",
       "      <td>-0.037152</td>\n",
       "      <td>0.074556</td>\n",
       "      <td>-0.073728</td>\n",
       "      <td>0.125956</td>\n",
       "      <td>0.042143</td>\n",
       "      <td>0.042983</td>\n",
       "    </tr>\n",
       "  </tbody>\n",
       "</table>\n",
       "<p>5 rows × 194 columns</p>\n",
       "</div>"
      ],
      "text/plain": [
       "      slice_file_name    fsID  start        end  salience  fold  classID  \\\n",
       "0    100032-3-0-0.wav  100032    0.0   0.317551         1     5        3   \n",
       "1  100263-2-0-117.wav  100263   58.5  62.500000         1     5        2   \n",
       "2  100263-2-0-121.wav  100263   60.5  64.500000         1     5        2   \n",
       "3  100263-2-0-126.wav  100263   63.0  67.000000         1     5        2   \n",
       "4  100263-2-0-137.wav  100263   68.5  72.500000         1     5        2   \n",
       "\n",
       "              class         0         1    ...          176       177  \\\n",
       "0          dog_bark  0.000027  0.000222    ...     0.914163  0.788859   \n",
       "1  children_playing  0.049700  0.049527    ...     0.617903  0.675770   \n",
       "2  children_playing  0.030849  0.028020    ...     0.636775  0.646543   \n",
       "3  children_playing  0.026511  0.032827    ...     0.626030  0.636564   \n",
       "4  children_playing  0.061541  0.040469    ...     0.595789  0.617314   \n",
       "\n",
       "        178       179       180       181       182       183       184  \\\n",
       "0  0.482100  0.497833  0.021190 -0.010982 -0.133131  0.094218 -0.012384   \n",
       "1  0.693920  0.684928 -0.006520  0.004458 -0.008590 -0.001745 -0.004053   \n",
       "2  0.723038  0.750797 -0.013711  0.031615 -0.050797  0.020023  0.011620   \n",
       "3  0.666254  0.679418  0.001021  0.021068 -0.009772  0.007726  0.004001   \n",
       "4  0.691961  0.827252 -0.037152  0.074556 -0.073728  0.125956  0.042143   \n",
       "\n",
       "        185  \n",
       "0  0.009034  \n",
       "1 -0.000320  \n",
       "2  0.009686  \n",
       "3  0.006359  \n",
       "4  0.042983  \n",
       "\n",
       "[5 rows x 194 columns]"
      ]
     },
     "execution_count": 5,
     "metadata": {},
     "output_type": "execute_result"
    }
   ],
   "source": [
    "info.head()"
   ]
  },
  {
   "cell_type": "code",
   "execution_count": 25,
   "metadata": {},
   "outputs": [],
   "source": [
    "#For this we pick fold 1 as the testing set, and the rest as the training set.\n",
    "\n",
    "info_training=info[(info['fold']!=1) & (info['fold']!=2) & (info['fold']!=3)]\n",
    "info_testing=info[(info['fold']==1) | (info['fold']==2) | (info['fold']==3)]\n",
    "\n",
    "X_train = info_training.iloc[:, 8:].values\n",
    "X_test = info_testing.iloc[:, 8:].values\n",
    "\n",
    "y_train = info_training.iloc[:, 7].values\n",
    "y_test = info_testing.iloc[:, 7].values\n"
   ]
  },
  {
   "cell_type": "code",
   "execution_count": 26,
   "metadata": {},
   "outputs": [],
   "source": [
    "#Train the Data"
   ]
  },
  {
   "cell_type": "code",
   "execution_count": 27,
   "metadata": {
    "scrolled": false
   },
   "outputs": [
    {
     "name": "stdout",
     "output_type": "stream",
     "text": [
      "Trained dog_bark\n",
      "Trained children_playing\n",
      "Trained car_horn\n",
      "Trained air_conditioner\n",
      "Trained street_music\n",
      "Trained gun_shot\n",
      "Trained siren\n",
      "Trained engine_idling\n",
      "Trained jackhammer\n",
      "Trained drilling\n"
     ]
    }
   ],
   "source": [
    "pdfs=[]\n",
    "\n",
    "for label in labels:\n",
    "   \n",
    "    Matrix=X_train[np.where(y_train==label)[0], :].T\n",
    "    pdfs.append(stats.gaussian_kde(Matrix))\n",
    "    print('Trained {}'.format(label))"
   ]
  },
  {
   "cell_type": "code",
   "execution_count": 28,
   "metadata": {},
   "outputs": [],
   "source": [
    "#Test on testing set:"
   ]
  },
  {
   "cell_type": "code",
   "execution_count": 29,
   "metadata": {},
   "outputs": [],
   "source": [
    "def GiveClass(Observation,pdfs,labels):\n",
    "    \n",
    "    vals=[]\n",
    "    \n",
    "    for pdf in pdfs:\n",
    "        vals.append(pdf(Observation))\n",
    "        \n",
    "    vals=np.array(vals)\n",
    "    return labels[np.argmax(vals)]"
   ]
  },
  {
   "cell_type": "code",
   "execution_count": 30,
   "metadata": {},
   "outputs": [],
   "source": [
    "y_pred=[]\n",
    "for i in range(len(X_test)):\n",
    "    y_pred.append(GiveClass(X_test[i,:],pdfs,labels))\n",
    "    "
   ]
  },
  {
   "cell_type": "code",
   "execution_count": 31,
   "metadata": {},
   "outputs": [
    {
     "name": "stdout",
     "output_type": "stream",
     "text": [
      "Accuracy score of 0.31608339538346986\n"
     ]
    }
   ],
   "source": [
    "print('Accuracy score of {}'.format(np.mean(y_pred==y_test)))"
   ]
  },
  {
   "cell_type": "code",
   "execution_count": 35,
   "metadata": {},
   "outputs": [
    {
     "name": "stdout",
     "output_type": "stream",
     "text": [
      "Normalized confusion matrix\n",
      "[[0.50666667 0.28333333 0.00666667 0.01       0.07333333 0.\n",
      "  0.1        0.         0.01       0.01      ]\n",
      " [0.07333333 0.73333333 0.00333333 0.05       0.08666667 0.00333333\n",
      "  0.01666667 0.01       0.01333333 0.01      ]\n",
      " [0.52066116 0.04132231 0.19834711 0.         0.2231405  0.\n",
      "  0.         0.         0.         0.01652893]\n",
      " [0.06666667 0.46333333 0.00333333 0.03666667 0.27       0.00333333\n",
      "  0.00333333 0.01333333 0.14       0.        ]\n",
      " [0.09       0.33666667 0.         0.03666667 0.43333333 0.\n",
      "  0.04666667 0.00666667 0.01       0.04      ]\n",
      " [0.37735849 0.16981132 0.         0.         0.03773585 0.29245283\n",
      "  0.         0.         0.         0.12264151]\n",
      " [0.23986486 0.31081081 0.         0.01351351 0.09121622 0.\n",
      "  0.33108108 0.         0.00675676 0.00675676]\n",
      " [0.13861386 0.3630363  0.         0.00660066 0.24092409 0.\n",
      "  0.         0.04950495 0.20132013 0.        ]\n",
      " [0.04444444 0.18333333 0.         0.00277778 0.32222222 0.\n",
      "  0.         0.         0.2        0.24722222]\n",
      " [0.34       0.12       0.         0.         0.07333333 0.\n",
      "  0.00666667 0.         0.14       0.32      ]]\n"
     ]
    },
    {
     "data": {
      "image/png": "[encoded data removed]",
      "text/plain": [
       "<Figure size 720x432 with 2 Axes>"
      ]
     },
     "metadata": {},
     "output_type": "display_data"
    }
   ],
   "source": [
    "fig=urbanNoises.plot_confusion_matrix(y_test,y_pred,labels)\n",
    "fig.tight_layout()\n",
    "fig.savefig('plots/FeatureAssessment.png')\n",
    "plt.show()"
   ]
  },
  {
   "cell_type": "code",
   "execution_count": 34,
   "metadata": {},
   "outputs": [],
   "source": []
  },
  {
   "cell_type": "code",
   "execution_count": null,
   "metadata": {},
   "outputs": [],
   "source": []
  }
 ],
 "metadata": {
  "kernelspec": {
   "display_name": "Python 3",
   "language": "python",
   "name": "python3"
  },
  "language_info": {
   "codemirror_mode": {
    "name": "ipython",
    "version": 3
   },
   "file_extension": ".py",
   "mimetype": "text/x-python",
   "name": "python",
   "nbconvert_exporter": "python",
   "pygments_lexer": "ipython3",
   "version": "3.6.5"
  }
 },
 "nbformat": 4,
 "nbformat_minor": 2
}
