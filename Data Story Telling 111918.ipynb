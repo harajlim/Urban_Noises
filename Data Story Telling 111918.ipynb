{
 "cells": [
  {
   "cell_type": "code",
   "execution_count": 1,
   "metadata": {},
   "outputs": [],
   "source": [
    "#import needed libraries\n",
    "\n",
    "import librosa as lb #used for feature extracion and resampling\n",
    "import numpy as np \n",
    "import matplotlib.pyplot as plt\n",
    "import librosa.display #builds on matplotlib to draw nice spectrograms.\n",
    "import IPython.display as ipd #used to play .wav files from notebook\n",
    "import pandas as pd \n",
    "# from scipy.io import wavfile #can be used to import .wav files but does not work on 24 bit depth audio files\n",
    "\n",
    "\n",
    "import soundfile as sf #soundfile enables loading 24 bit depth audio files.\n",
    "import time #used to measure code runtime. \n",
    "import glob\n",
    "from collections import defaultdict\n",
    "import pickle\n",
    "import seaborn as sns\n",
    "from collections import defaultdict\n",
    "import scipy"
   ]
  },
  {
   "cell_type": "code",
   "execution_count": 2,
   "metadata": {},
   "outputs": [],
   "source": [
    "#defining a function that reads an audio file as a numpy array\n",
    "def ReadAudio(filename):\n",
    "    x,sr=sf.read(filename)\n",
    "    x=np.array(x)\n",
    "    x=x.T\n",
    "    #x=x.T #transpose to match format of librosa array representation\n",
    "    #set sample rate at 22050 to reduce memory usage. \n",
    "    x=lb.resample(x,sr,22050)\n",
    "        \n",
    "    #change any stereo audio to mono.\n",
    "    if x.shape[0] ==2:\n",
    "        x=lb.to_mono(x)\n",
    "     \n",
    "    #change to a list.\n",
    "    return x,22050"
   ]
  },
  {
   "cell_type": "code",
   "execution_count": 3,
   "metadata": {},
   "outputs": [],
   "source": [
    "#get presaved dataframe of the properties of each sound:\n",
    "with open('DataSummary/SummaryDFWithLabels.pickle', 'rb') as handle:\n",
    "    PropsDF=pickle.load(handle)"
   ]
  },
  {
   "cell_type": "code",
   "execution_count": 4,
   "metadata": {},
   "outputs": [
    {
     "data": {
      "text/html": [
       "<div>\n",
       "<style scoped>\n",
       "    .dataframe tbody tr th:only-of-type {\n",
       "        vertical-align: middle;\n",
       "    }\n",
       "\n",
       "    .dataframe tbody tr th {\n",
       "        vertical-align: top;\n",
       "    }\n",
       "\n",
       "    .dataframe thead th {\n",
       "        text-align: right;\n",
       "    }\n",
       "</style>\n",
       "<table border=\"1\" class=\"dataframe\">\n",
       "  <thead>\n",
       "    <tr style=\"text-align: right;\">\n",
       "      <th></th>\n",
       "      <th>ID_x</th>\n",
       "      <th>SR</th>\n",
       "      <th>length</th>\n",
       "      <th>Max</th>\n",
       "      <th>Min</th>\n",
       "      <th>Average</th>\n",
       "      <th>Duration</th>\n",
       "      <th>RealID</th>\n",
       "      <th>ID_y</th>\n",
       "      <th>Class</th>\n",
       "    </tr>\n",
       "  </thead>\n",
       "  <tbody>\n",
       "    <tr>\n",
       "      <th>0</th>\n",
       "      <td>train\\0.wav</td>\n",
       "      <td>44100</td>\n",
       "      <td>176400</td>\n",
       "      <td>0.477905</td>\n",
       "      <td>-0.522919</td>\n",
       "      <td>-0.000102</td>\n",
       "      <td>4.0</td>\n",
       "      <td>0</td>\n",
       "      <td>0.0</td>\n",
       "      <td>siren</td>\n",
       "    </tr>\n",
       "    <tr>\n",
       "      <th>1</th>\n",
       "      <td>train\\1.wav</td>\n",
       "      <td>48000</td>\n",
       "      <td>192000</td>\n",
       "      <td>0.391418</td>\n",
       "      <td>-0.390747</td>\n",
       "      <td>-0.000525</td>\n",
       "      <td>4.0</td>\n",
       "      <td>1</td>\n",
       "      <td>1.0</td>\n",
       "      <td>street_music</td>\n",
       "    </tr>\n",
       "    <tr>\n",
       "      <th>2</th>\n",
       "      <td>train\\10.wav</td>\n",
       "      <td>44100</td>\n",
       "      <td>176400</td>\n",
       "      <td>0.537064</td>\n",
       "      <td>-0.554016</td>\n",
       "      <td>-0.001036</td>\n",
       "      <td>4.0</td>\n",
       "      <td>10</td>\n",
       "      <td>10.0</td>\n",
       "      <td>street_music</td>\n",
       "    </tr>\n",
       "    <tr>\n",
       "      <th>3</th>\n",
       "      <td>train\\100.wav</td>\n",
       "      <td>44100</td>\n",
       "      <td>176400</td>\n",
       "      <td>0.246109</td>\n",
       "      <td>-0.303329</td>\n",
       "      <td>0.000141</td>\n",
       "      <td>4.0</td>\n",
       "      <td>100</td>\n",
       "      <td>100.0</td>\n",
       "      <td>air_conditioner</td>\n",
       "    </tr>\n",
       "    <tr>\n",
       "      <th>4</th>\n",
       "      <td>train\\1000.wav</td>\n",
       "      <td>44100</td>\n",
       "      <td>176400</td>\n",
       "      <td>0.210068</td>\n",
       "      <td>-0.241394</td>\n",
       "      <td>0.000050</td>\n",
       "      <td>4.0</td>\n",
       "      <td>1000</td>\n",
       "      <td>1000.0</td>\n",
       "      <td>street_music</td>\n",
       "    </tr>\n",
       "  </tbody>\n",
       "</table>\n",
       "</div>"
      ],
      "text/plain": [
       "             ID_x     SR  length       Max       Min   Average  Duration  \\\n",
       "0     train\\0.wav  44100  176400  0.477905 -0.522919 -0.000102       4.0   \n",
       "1     train\\1.wav  48000  192000  0.391418 -0.390747 -0.000525       4.0   \n",
       "2    train\\10.wav  44100  176400  0.537064 -0.554016 -0.001036       4.0   \n",
       "3   train\\100.wav  44100  176400  0.246109 -0.303329  0.000141       4.0   \n",
       "4  train\\1000.wav  44100  176400  0.210068 -0.241394  0.000050       4.0   \n",
       "\n",
       "   RealID    ID_y            Class  \n",
       "0       0     0.0            siren  \n",
       "1       1     1.0     street_music  \n",
       "2      10    10.0     street_music  \n",
       "3     100   100.0  air_conditioner  \n",
       "4    1000  1000.0     street_music  "
      ]
     },
     "execution_count": 4,
     "metadata": {},
     "output_type": "execute_result"
    }
   ],
   "source": [
    "PropsDF.head()"
   ]
  },
  {
   "cell_type": "markdown",
   "metadata": {},
   "source": [
    "## Feature Extraction\n"
   ]
  },
  {
   "cell_type": "code",
   "execution_count": 5,
   "metadata": {},
   "outputs": [],
   "source": [
    "#Get all unique sounds:\n",
    "TrainDF=PropsDF[pd.isnull(PropsDF['Class'])!=True]\n",
    "\n",
    "\n",
    "classes=TrainDF['Class'].unique()\n",
    "\n",
    "TrainingSoundsIDs=defaultdict(list)\n",
    "#TestingSoundsIDs=defaultdict(list)\n",
    "\n",
    "\n",
    "for sound in classes:\n",
    "    TrainingSoundsIDs[sound].extend(TrainDF[TrainDF['Class']==sound]['RealID'].values)\n",
    "    #TestingSoundsIDs[sound].extend(TestDF[TestDF['Class']==sound]['RealID'].values)\n",
    "    \n"
   ]
  },
  {
   "cell_type": "markdown",
   "metadata": {},
   "source": [
    "## What a drilling noise looks like\n",
    "Note duration of sound < 4 s"
   ]
  },
  {
   "cell_type": "code",
   "execution_count": null,
   "metadata": {},
   "outputs": [],
   "source": [
    "for counter,label in enumerate([classes[6]]):\n",
    "    for sample in range(1):\n",
    "        localfile=TrainingSoundsIDs[label][sample]\n",
    "        fullname='train\\{}.wav'.format(str(localfile))\n",
    "        x,sr=ReadAudio(fullname)\n",
    "        plt.plot(np.arange(1,len(x)+1)/sr,x)\n",
    "        plt.xlabel('Time (s)')\n",
    "        plt.ylabel('Amplitude')\n",
    "        plt.title(label)\n",
    "        "
   ]
  },
  {
   "cell_type": "markdown",
   "metadata": {},
   "source": [
    "## What a siren noise looks like\n",
    "Note duration of sound = 4 s"
   ]
  },
  {
   "cell_type": "code",
   "execution_count": null,
   "metadata": {},
   "outputs": [],
   "source": [
    "for counter,label in enumerate([classes[0]]):\n",
    "    for sample in range(1):\n",
    "        localfile=TrainingSoundsIDs[label][sample]\n",
    "        fullname='train\\{}.wav'.format(str(localfile))\n",
    "        x,sr=ReadAudio(fullname)\n",
    "        plt.plot(np.arange(1,len(x)+1)/sr,x)\n",
    "        plt.xlabel('Time (s)')\n",
    "        plt.ylabel('Amplitude')\n",
    "        plt.title(label)"
   ]
  },
  {
   "cell_type": "markdown",
   "metadata": {},
   "source": [
    "## Feature 1: Mel-frequency cepstral coefficients:\n"
   ]
  },
  {
   "cell_type": "markdown",
   "metadata": {},
   "source": [
    "For Drilling:"
   ]
  },
  {
   "cell_type": "code",
   "execution_count": 97,
   "metadata": {
    "scrolled": true
   },
   "outputs": [
    {
     "data": {
      "image/png": "[encoded data removed]",
      "text/plain": [
       "<Figure size 720x432 with 1 Axes>"
      ]
     },
     "metadata": {},
     "output_type": "display_data"
    }
   ],
   "source": [
    "for counter,label in enumerate([classes[6]]):\n",
    "    for sample in range(1):\n",
    "        localfile=TrainingSoundsIDs[label][sample]\n",
    "        fullname='train\\{}.wav'.format(str(localfile))\n",
    "        x,sr=ReadAudio(fullname)\n",
    "        mfccs = np.mean(librosa.feature.mfcc(y=x, sr=sr, n_mfcc=40).T,axis=0)\n",
    "        D1=pd.DataFrame(mfccs,index=np.arange(0,len(mfccs)),columns=['Value'])\n",
    "        D1['featureNumber']=0\n",
    "        D1['sound']='drilling'\n",
    "        for i in range(len(mfccs)):\n",
    "            D1.iloc[i,1]=i\n",
    "D1.head()\n",
    "plt.figure(figsize=(10,6))\n",
    "sns.barplot(x='featureNumber',y='Value',data=D1,hue='sound')\n",
    "plt.tight_layout()\n",
    "plt.title('Cepstral Coefficient Features for drilling sound')\n",
    "plt.savefig('111918/mfccs_drilling.png')"
   ]
  },
  {
   "cell_type": "markdown",
   "metadata": {},
   "source": [
    "We note that the x axis here is not time, but the coefficient and the y-axis is its average over time."
   ]
  },
  {
   "cell_type": "markdown",
   "metadata": {},
   "source": [
    "for siren"
   ]
  },
  {
   "cell_type": "code",
   "execution_count": 98,
   "metadata": {},
   "outputs": [
    {
     "data": {
      "image/png": "[encoded data removed]",
      "text/plain": [
       "<Figure size 720x432 with 1 Axes>"
      ]
     },
     "metadata": {},
     "output_type": "display_data"
    }
   ],
   "source": [
    "for counter,label in enumerate([classes[0]]):\n",
    "    for sample in range(1):\n",
    "        localfile=TrainingSoundsIDs[label][sample]\n",
    "        fullname='train\\{}.wav'.format(str(localfile))\n",
    "        x,sr=ReadAudio(fullname)\n",
    "        mfccs = np.mean(librosa.feature.mfcc(y=x, sr=sr, n_mfcc=40).T,axis=0)\n",
    "        D2=pd.DataFrame(mfccs,index=np.arange(0,len(mfccs)),columns=['Value'])\n",
    "        D2['featureNumber']=0\n",
    "        D2['sound']='siren'\n",
    "        for i in range(len(mfccs)):\n",
    "            D2.iloc[i,1]=i\n",
    "\n",
    "plt.figure(figsize=(10,6))\n",
    "sns.barplot(x='featureNumber',y='Value',data=D2,hue='sound')\n",
    "plt.tight_layout()\n",
    "plt.title('Cepstral Coefficient Features for siren sound')\n",
    "plt.savefig('111918/mfccs_siren.png')\n",
    "        "
   ]
  },
  {
   "cell_type": "code",
   "execution_count": 99,
   "metadata": {
    "scrolled": true
   },
   "outputs": [
    {
     "data": {
      "image/png": "[encoded data removed]",
      "text/plain": [
       "<Figure size 720x432 with 1 Axes>"
      ]
     },
     "metadata": {},
     "output_type": "display_data"
    }
   ],
   "source": [
    "D1=D1.append(D2)\n",
    "plt.figure(figsize=(10,6))\n",
    "sns.barplot(x='featureNumber',y='Value',data=D1,hue='sound')\n",
    "plt.tight_layout()\n",
    "plt.title('Cepstral Coefficient features for both sounds')\n",
    "plt.savefig('111918/mfccs_both.png')"
   ]
  },
  {
   "cell_type": "code",
   "execution_count": 81,
   "metadata": {},
   "outputs": [
    {
     "data": {
      "text/plain": [
       "(80, 3)"
      ]
     },
     "execution_count": 81,
     "metadata": {},
     "output_type": "execute_result"
    }
   ],
   "source": [
    "D1.shape"
   ]
  },
  {
   "cell_type": "markdown",
   "metadata": {},
   "source": [
    "## Feature 2: Mel-scaled power spectrogram"
   ]
  },
  {
   "cell_type": "markdown",
   "metadata": {},
   "source": [
    "For Drilling"
   ]
  },
  {
   "cell_type": "code",
   "execution_count": 100,
   "metadata": {},
   "outputs": [
    {
     "data": {
      "image/png": "[encoded data removed]",
      "text/plain": [
       "<Figure size 2520x720 with 1 Axes>"
      ]
     },
     "metadata": {},
     "output_type": "display_data"
    }
   ],
   "source": [
    "for counter,label in enumerate([classes[6]]):\n",
    "    for sample in range(1):\n",
    "        localfile=TrainingSoundsIDs[label][sample]\n",
    "        fullname='train\\{}.wav'.format(str(localfile))\n",
    "        x,sr=ReadAudio(fullname)\n",
    "        mel = np.mean(librosa.feature.melspectrogram(x, sr=sr).T,axis=0)\n",
    "        D1=pd.DataFrame(mel,index=np.arange(0,len(mel)),columns=['Value'])\n",
    "        D1['featureNumber']=0\n",
    "        D1['sound']='drilling'\n",
    "        for i in range(len(mel)):\n",
    "            D1.iloc[i,1]=i\n",
    "D1.head()\n",
    "plt.figure(figsize=(35,10))\n",
    "sns.barplot(x='featureNumber',y='Value',data=D1,hue='sound')\n",
    "plt.tight_layout()\n",
    "plt.title('Mel Scaled Spectrogram Features for drilling')\n",
    "plt.savefig('111918/mel_drilling.png')       "
   ]
  },
  {
   "cell_type": "markdown",
   "metadata": {},
   "source": [
    "For Siren:"
   ]
  },
  {
   "cell_type": "code",
   "execution_count": 101,
   "metadata": {},
   "outputs": [
    {
     "data": {
      "image/png": "[encoded data removed]",
      "text/plain": [
       "<Figure size 2520x720 with 1 Axes>"
      ]
     },
     "metadata": {},
     "output_type": "display_data"
    }
   ],
   "source": [
    "for counter,label in enumerate([classes[0]]):\n",
    "    for sample in range(1):\n",
    "        localfile=TrainingSoundsIDs[label][sample]\n",
    "        fullname='train\\{}.wav'.format(str(localfile))\n",
    "        x,sr=ReadAudio(fullname)\n",
    "        mel = np.mean(librosa.feature.melspectrogram(x, sr=sr).T,axis=0)\n",
    "        D2=pd.DataFrame(mel,index=np.arange(0,len(mel)),columns=['Value'])\n",
    "        D2['featureNumber']=0\n",
    "        D2['sound']='siren'\n",
    "        for i in range(len(mel)):\n",
    "            D2.iloc[i,1]=i\n",
    "#D1.head()\n",
    "plt.figure(figsize=(35,10))\n",
    "sns.barplot(x='featureNumber',y='Value',data=D2,hue='sound')\n",
    "plt.tight_layout()\n",
    "plt.title('Mel Scaled Spectrogram Features for siren')\n",
    "plt.savefig('111918/mel_siren.png') "
   ]
  },
  {
   "cell_type": "code",
   "execution_count": 102,
   "metadata": {},
   "outputs": [
    {
     "data": {
      "image/png": "[encoded data removed]",
      "text/plain": [
       "<Figure size 2520x720 with 1 Axes>"
      ]
     },
     "metadata": {},
     "output_type": "display_data"
    }
   ],
   "source": [
    "D1=D1.append(D2)\n",
    "plt.figure(figsize=(35,10))\n",
    "sns.barplot(x='featureNumber',y='Value',data=D1,hue='sound')\n",
    "plt.tight_layout()\n",
    "plt.title('Mel Scaled Spectrogram Features for both')\n",
    "plt.savefig('111918/mel_both.png')"
   ]
  },
  {
   "cell_type": "markdown",
   "metadata": {},
   "source": [
    "## Feature 3: Chormagram of a short-time Fourier transform"
   ]
  },
  {
   "cell_type": "markdown",
   "metadata": {},
   "source": [
    "For Drilling:"
   ]
  },
  {
   "cell_type": "code",
   "execution_count": 103,
   "metadata": {},
   "outputs": [
    {
     "data": {
      "image/png": "[encoded data removed]",
      "text/plain": [
       "<Figure size 720x432 with 1 Axes>"
      ]
     },
     "metadata": {},
     "output_type": "display_data"
    }
   ],
   "source": [
    "for counter,label in enumerate([classes[6]]):\n",
    "    for sample in range(1):\n",
    "        localfile=TrainingSoundsIDs[label][sample]\n",
    "        fullname='train\\{}.wav'.format(str(localfile))\n",
    "        x,sr=ReadAudio(fullname)\n",
    "        stft = np.abs(librosa.stft(x))\n",
    "        chroma = np.mean(librosa.feature.chroma_stft(S=stft, sr=sr).T,axis=0)\n",
    "        D1=pd.DataFrame(chroma,index=np.arange(0,len(chroma)),columns=['Value'])\n",
    "        D1['featureNumber']=0\n",
    "        D1['sound']='drilling'\n",
    "        for i in range(len(chroma)):\n",
    "            D1.iloc[i,1]=i\n",
    "D1.head()\n",
    "plt.figure(figsize=(10,6))\n",
    "sns.barplot(x='featureNumber',y='Value',data=D1,hue='sound')\n",
    "plt.tight_layout()\n",
    "plt.title('Chroma Features for Drilling')\n",
    "plt.savefig('111918/chroma_drilling.png')       "
   ]
  },
  {
   "cell_type": "markdown",
   "metadata": {},
   "source": [
    "For Siren:"
   ]
  },
  {
   "cell_type": "code",
   "execution_count": 104,
   "metadata": {},
   "outputs": [
    {
     "data": {
      "image/png": "[encoded data removed]",
      "text/plain": [
       "<Figure size 720x432 with 1 Axes>"
      ]
     },
     "metadata": {},
     "output_type": "display_data"
    }
   ],
   "source": [
    "for counter,label in enumerate([classes[0]]):\n",
    "        localfile=TrainingSoundsIDs[label][sample]\n",
    "        fullname='train\\{}.wav'.format(str(localfile))\n",
    "        x,sr=ReadAudio(fullname)\n",
    "        stft = np.abs(librosa.stft(x))\n",
    "        chroma = np.mean(librosa.feature.chroma_stft(S=stft, sr=sr).T,axis=0)\n",
    "        D2=pd.DataFrame(chroma,index=np.arange(0,len(chroma)),columns=['Value'])\n",
    "        D2['featureNumber']=0\n",
    "        D2['sound']='Siren'\n",
    "        for i in range(len(chroma)):\n",
    "            D2.iloc[i,1]=i\n",
    "#D1.head()\n",
    "plt.figure(figsize=(10,6))\n",
    "sns.barplot(x='featureNumber',y='Value',data=D2,hue='sound')\n",
    "plt.tight_layout()\n",
    "plt.title('Chroma Features for Siren')\n",
    "plt.savefig('111918/chroma_siren.png')               \n",
    "        "
   ]
  },
  {
   "cell_type": "code",
   "execution_count": 105,
   "metadata": {},
   "outputs": [
    {
     "data": {
      "image/png": "[encoded data removed]",
      "text/plain": [
       "<Figure size 720x432 with 1 Axes>"
      ]
     },
     "metadata": {},
     "output_type": "display_data"
    }
   ],
   "source": [
    "D1=D1.append(D2)\n",
    "plt.figure(figsize=(10,6))\n",
    "sns.barplot(x='featureNumber',y='Value',data=D1,hue='sound')\n",
    "plt.tight_layout()\n",
    "plt.title('Chroma Features for Both sounds')\n",
    "plt.savefig('111918/chroma_both.png')"
   ]
  },
  {
   "cell_type": "markdown",
   "metadata": {},
   "source": [
    "## Feature 4: Octave-based spectral constrast\n"
   ]
  },
  {
   "cell_type": "markdown",
   "metadata": {},
   "source": [
    "For Drilling:"
   ]
  },
  {
   "cell_type": "code",
   "execution_count": 106,
   "metadata": {},
   "outputs": [
    {
     "data": {
      "image/png": "[encoded data removed]",
      "text/plain": [
       "<Figure size 432x216 with 1 Axes>"
      ]
     },
     "metadata": {},
     "output_type": "display_data"
    }
   ],
   "source": [
    "for counter,label in enumerate([classes[6]]):\n",
    "    for sample in range(1):\n",
    "        localfile=TrainingSoundsIDs[label][sample]\n",
    "        fullname='train\\{}.wav'.format(str(localfile))\n",
    "        x,sr=ReadAudio(fullname)\n",
    "        stft = np.abs(librosa.stft(x))\n",
    "        contrast = np.mean(librosa.feature.spectral_contrast(S=stft, sr=sr).T,axis=0)\n",
    "        D1=pd.DataFrame(contrast,index=np.arange(0,len(contrast)),columns=['Value'])\n",
    "        D1['featureNumber']=0\n",
    "        D1['sound']='drilling'\n",
    "        for i in range(len(contrast)):\n",
    "            D1.iloc[i,1]=i\n",
    "D1.head()\n",
    "plt.figure(figsize=(6,3))\n",
    "sns.barplot(x='featureNumber',y='Value',data=D1,hue='sound')\n",
    "plt.tight_layout()\n",
    "plt.title('Contrast Features for drilling')\n",
    "plt.savefig('111918/contrast_drilling.png')       "
   ]
  },
  {
   "cell_type": "markdown",
   "metadata": {},
   "source": [
    "For Siren:"
   ]
  },
  {
   "cell_type": "code",
   "execution_count": 107,
   "metadata": {},
   "outputs": [
    {
     "data": {
      "image/png": "[encoded data removed]",
      "text/plain": [
       "<Figure size 432x216 with 1 Axes>"
      ]
     },
     "metadata": {},
     "output_type": "display_data"
    }
   ],
   "source": [
    "for counter,label in enumerate([classes[0]]):\n",
    "    for sample in range(1):\n",
    "        localfile=TrainingSoundsIDs[label][sample]\n",
    "        fullname='train\\{}.wav'.format(str(localfile))\n",
    "        x,sr=ReadAudio(fullname)\n",
    "        stft = np.abs(librosa.stft(x))\n",
    "        contrast = np.mean(librosa.feature.spectral_contrast(S=stft, sr=sr).T,axis=0)\n",
    "        D2=pd.DataFrame(contrast,index=np.arange(0,len(contrast)),columns=['Value'])\n",
    "        D2['featureNumber']=0\n",
    "        D2['sound']='siren'\n",
    "        for i in range(len(contrast)):\n",
    "            D2.iloc[i,1]=i\n",
    "#D1.head()\n",
    "plt.figure(figsize=(6,3))\n",
    "sns.barplot(x='featureNumber',y='Value',data=D2,hue='sound')\n",
    "plt.tight_layout()\n",
    "plt.title('Contrast Features for siren')\n",
    "plt.savefig('111918/contrast_siren.png')               "
   ]
  },
  {
   "cell_type": "code",
   "execution_count": 108,
   "metadata": {},
   "outputs": [
    {
     "data": {
      "image/png": "[encoded data removed]",
      "text/plain": [
       "<Figure size 432x216 with 1 Axes>"
      ]
     },
     "metadata": {},
     "output_type": "display_data"
    }
   ],
   "source": [
    "D1=D1.append(D2)\n",
    "plt.figure(figsize=(6,3))\n",
    "sns.barplot(x='featureNumber',y='Value',data=D1,hue='sound')\n",
    "plt.tight_layout()\n",
    "plt.title('Contrast Features for both sounds')\n",
    "plt.savefig('111918/contrast_both.png')"
   ]
  },
  {
   "cell_type": "markdown",
   "metadata": {},
   "source": [
    "## Feature 5: Tonnetz"
   ]
  },
  {
   "cell_type": "markdown",
   "metadata": {},
   "source": [
    "For Drilling:"
   ]
  },
  {
   "cell_type": "code",
   "execution_count": 109,
   "metadata": {},
   "outputs": [
    {
     "data": {
      "image/png": "[encoded data removed]",
      "text/plain": [
       "<Figure size 432x216 with 1 Axes>"
      ]
     },
     "metadata": {},
     "output_type": "display_data"
    }
   ],
   "source": [
    "for counter,label in enumerate([classes[6]]):\n",
    "    for sample in range(1):\n",
    "        localfile=TrainingSoundsIDs[label][sample]\n",
    "        fullname='train\\{}.wav'.format(str(localfile))\n",
    "        x,sr=ReadAudio(fullname)\n",
    "        tonnetz = np.mean(librosa.feature.tonnetz(y=librosa.effects.harmonic(x),sr=sr).T,axis=0)\n",
    "        D1=pd.DataFrame(tonnetz,index=np.arange(0,len(tonnetz)),columns=['Value'])\n",
    "        D1['featureNumber']=0\n",
    "        D1['sound']='drilling'\n",
    "        for i in range(len(tonnetz)):\n",
    "            D1.iloc[i,1]=i\n",
    "\n",
    "plt.figure(figsize=(6,3))\n",
    "sns.barplot(x='featureNumber',y='Value',data=D1,hue='sound')\n",
    "plt.tight_layout()\n",
    "plt.title('Tonnetz Features for Drilling')\n",
    "plt.savefig('111918/tonnetz_drilling.png')       "
   ]
  },
  {
   "cell_type": "markdown",
   "metadata": {},
   "source": [
    "for Siren:"
   ]
  },
  {
   "cell_type": "code",
   "execution_count": 110,
   "metadata": {},
   "outputs": [
    {
     "data": {
      "image/png": "[encoded data removed]",
      "text/plain": [
       "<Figure size 432x216 with 1 Axes>"
      ]
     },
     "metadata": {},
     "output_type": "display_data"
    }
   ],
   "source": [
    "for counter,label in enumerate([classes[0]]):\n",
    "    for sample in range(1):\n",
    "        localfile=TrainingSoundsIDs[label][sample]\n",
    "        fullname='train\\{}.wav'.format(str(localfile))\n",
    "        x,sr=ReadAudio(fullname)\n",
    "        tonnetz = np.mean(librosa.feature.tonnetz(y=librosa.effects.harmonic(x),sr=sr).T,axis=0)\n",
    "        D2=pd.DataFrame(tonnetz,index=np.arange(0,len(tonnetz)),columns=['Value'])\n",
    "        D2['featureNumber']=0\n",
    "        D2['sound']='siren'\n",
    "        for i in range(len(tonnetz)):\n",
    "            D2.iloc[i,1]=i\n",
    "\n",
    "plt.figure(figsize=(6,3))\n",
    "sns.barplot(x='featureNumber',y='Value',data=D2,hue='sound')\n",
    "plt.tight_layout()\n",
    "plt.title('Tonnetz Features for Siren')\n",
    "plt.savefig('111918/tonnetz_siren.png')       "
   ]
  },
  {
   "cell_type": "code",
   "execution_count": 112,
   "metadata": {},
   "outputs": [
    {
     "data": {
      "image/png": "[encoded data removed]",
      "text/plain": [
       "<Figure size 432x216 with 1 Axes>"
      ]
     },
     "metadata": {},
     "output_type": "display_data"
    }
   ],
   "source": [
    "D1=D1.append(D2)\n",
    "plt.figure(figsize=(6,3))\n",
    "sns.barplot(x='featureNumber',y='Value',data=D1,hue='sound')\n",
    "plt.tight_layout()\n",
    "plt.title('Tonnetz Features for Both Sounds')\n",
    "plt.savefig('111918/tonnetz_both.png')"
   ]
  },
  {
   "cell_type": "markdown",
   "metadata": {},
   "source": [
    "We now get all these features for all our training Data. Before we do that we create a function that takes in each file and reads it then extracts all the needed features. We also concatenate all these features to get a feature of 193 dimensions for each sound\n",
    "\n",
    "    "
   ]
  },
  {
   "cell_type": "code",
   "execution_count": null,
   "metadata": {},
   "outputs": [],
   "source": [
    "def extractFeatures(x,sr):\n",
    "    \"\"\"x is numpy array\"\"\"\n",
    "    stft = np.abs(librosa.stft(x))\n",
    "    mfccs = np.mean(librosa.feature.mfcc(y=x, sr=sr, n_mfcc=40).T,axis=0)\n",
    "    chroma = np.mean(librosa.feature.chroma_stft(S=stft, sr=sr).T,axis=0)\n",
    "    mel = np.mean(librosa.feature.melspectrogram(x, sr=sr).T,axis=0)\n",
    "    contrast = np.mean(librosa.feature.spectral_contrast(S=stft, sr=sr).T,axis=0)\n",
    "    tonnetz = np.mean(librosa.feature.tonnetz(y=librosa.effects.harmonic(x),sr=sr).T,axis=0)\n",
    "    return mfccs,chroma,mel,contrast,tonnetz\n"
   ]
  },
  {
   "cell_type": "code",
   "execution_count": null,
   "metadata": {},
   "outputs": [],
   "source": [
    "Data=defaultdict(list)\n",
    "for counter,label in enumerate(classes):\n",
    "    for sample in range(len(TrainingSoundsIDs[label])):\n",
    "        localfile=TrainingSoundsIDs[label][sample]\n",
    "        fullname='train\\{}.wav'.format(str(localfile))\n",
    "        x,sr=ReadAudio(fullname)\n",
    "        mfccs,chroma,mel,contrast,tonnetz=extractFeatures(x,sr)\n",
    "        Data['label'].append(label)\n",
    "        Data['ID'].append(localfile)\n",
    "        Data['mfccs'].append(mfccs)\n",
    "        Data['chroma'].append(chroma)\n",
    "        Data['mel'].append(mel)\n",
    "        Data['contrast'].append(contrast)\n",
    "        Data['tonnetz'].append(tonnetz)\n",
    "        "
   ]
  },
  {
   "cell_type": "code",
   "execution_count": null,
   "metadata": {},
   "outputs": [],
   "source": [
    "DF=pd.DataFrame.from_dict(Data)"
   ]
  },
  {
   "cell_type": "code",
   "execution_count": null,
   "metadata": {},
   "outputs": [],
   "source": [
    "DF.set_index('ID')"
   ]
  },
  {
   "cell_type": "code",
   "execution_count": 131,
   "metadata": {},
   "outputs": [],
   "source": [
    "with open('DataSummary\\Features.pickle','wb') as file:\n",
    "    pickle.dump(DF,file)"
   ]
  },
  {
   "cell_type": "code",
   "execution_count": 134,
   "metadata": {},
   "outputs": [
    {
     "data": {
      "text/plain": [
       "(5435, 3)"
      ]
     },
     "execution_count": 134,
     "metadata": {},
     "output_type": "execute_result"
    }
   ],
   "source": [
    "#start from here\n",
    "with open('DataSummary\\Features.pickle','rb') as file:\n",
    "    DF=pickle.load(file)\n",
    "DF.shape"
   ]
  },
  {
   "cell_type": "code",
   "execution_count": 136,
   "metadata": {},
   "outputs": [
    {
     "data": {
      "text/html": [
       "<div>\n",
       "<style scoped>\n",
       "    .dataframe tbody tr th:only-of-type {\n",
       "        vertical-align: middle;\n",
       "    }\n",
       "\n",
       "    .dataframe tbody tr th {\n",
       "        vertical-align: top;\n",
       "    }\n",
       "\n",
       "    .dataframe thead th {\n",
       "        text-align: right;\n",
       "    }\n",
       "</style>\n",
       "<table border=\"1\" class=\"dataframe\">\n",
       "  <thead>\n",
       "    <tr style=\"text-align: right;\">\n",
       "      <th></th>\n",
       "      <th>label</th>\n",
       "      <th>ID</th>\n",
       "      <th>FeatureVector</th>\n",
       "    </tr>\n",
       "  </thead>\n",
       "  <tbody>\n",
       "    <tr>\n",
       "      <th>0</th>\n",
       "      <td>siren</td>\n",
       "      <td>0</td>\n",
       "      <td>[-75.09571792626822, 129.61184458091378, -32.6...</td>\n",
       "    </tr>\n",
       "    <tr>\n",
       "      <th>1</th>\n",
       "      <td>siren</td>\n",
       "      <td>1017</td>\n",
       "      <td>[-529.8225494418793, 3.2076505339364685, -39.3...</td>\n",
       "    </tr>\n",
       "    <tr>\n",
       "      <th>2</th>\n",
       "      <td>siren</td>\n",
       "      <td>1068</td>\n",
       "      <td>[-321.6916830761862, 142.7038945186553, -29.06...</td>\n",
       "    </tr>\n",
       "    <tr>\n",
       "      <th>3</th>\n",
       "      <td>siren</td>\n",
       "      <td>1069</td>\n",
       "      <td>[-251.96383863061635, 114.6776430250902, -70.2...</td>\n",
       "    </tr>\n",
       "    <tr>\n",
       "      <th>4</th>\n",
       "      <td>siren</td>\n",
       "      <td>1116</td>\n",
       "      <td>[-341.2867620636534, 148.38603712522664, -19.5...</td>\n",
       "    </tr>\n",
       "  </tbody>\n",
       "</table>\n",
       "</div>"
      ],
      "text/plain": [
       "   label    ID                                      FeatureVector\n",
       "0  siren     0  [-75.09571792626822, 129.61184458091378, -32.6...\n",
       "1  siren  1017  [-529.8225494418793, 3.2076505339364685, -39.3...\n",
       "2  siren  1068  [-321.6916830761862, 142.7038945186553, -29.06...\n",
       "3  siren  1069  [-251.96383863061635, 114.6776430250902, -70.2...\n",
       "4  siren  1116  [-341.2867620636534, 148.38603712522664, -19.5..."
      ]
     },
     "execution_count": 136,
     "metadata": {},
     "output_type": "execute_result"
    }
   ],
   "source": [
    "DF.head()"
   ]
  },
  {
   "cell_type": "markdown",
   "metadata": {},
   "source": [
    "## Question 1: How are the MFCC coefficient's values distibuted for each class (sound)"
   ]
  },
  {
   "cell_type": "code",
   "execution_count": 135,
   "metadata": {},
   "outputs": [
    {
     "ename": "KeyError",
     "evalue": "\"['mfccs'] not in index\"",
     "output_type": "error",
     "traceback": [
      "\u001b[1;31m---------------------------------------------------------------------------\u001b[0m",
      "\u001b[1;31mKeyError\u001b[0m                                  Traceback (most recent call last)",
      "\u001b[1;32m<ipython-input-135-f50848d13adc>\u001b[0m in \u001b[0;36m<module>\u001b[1;34m()\u001b[0m\n\u001b[1;32m----> 1\u001b[1;33m \u001b[0mDF1\u001b[0m\u001b[1;33m=\u001b[0m\u001b[0mDF\u001b[0m\u001b[1;33m[\u001b[0m\u001b[1;33m[\u001b[0m\u001b[1;34m'label'\u001b[0m\u001b[1;33m,\u001b[0m\u001b[1;34m'mfccs'\u001b[0m\u001b[1;33m]\u001b[0m\u001b[1;33m]\u001b[0m\u001b[1;33m\u001b[0m\u001b[0m\n\u001b[0m",
      "\u001b[1;32m~\\AppData\\Local\\Continuum\\anaconda3\\lib\\site-packages\\pandas\\core\\frame.py\u001b[0m in \u001b[0;36m__getitem__\u001b[1;34m(self, key)\u001b[0m\n\u001b[0;32m   2677\u001b[0m         \u001b[1;32mif\u001b[0m \u001b[0misinstance\u001b[0m\u001b[1;33m(\u001b[0m\u001b[0mkey\u001b[0m\u001b[1;33m,\u001b[0m \u001b[1;33m(\u001b[0m\u001b[0mSeries\u001b[0m\u001b[1;33m,\u001b[0m \u001b[0mnp\u001b[0m\u001b[1;33m.\u001b[0m\u001b[0mndarray\u001b[0m\u001b[1;33m,\u001b[0m \u001b[0mIndex\u001b[0m\u001b[1;33m,\u001b[0m \u001b[0mlist\u001b[0m\u001b[1;33m)\u001b[0m\u001b[1;33m)\u001b[0m\u001b[1;33m:\u001b[0m\u001b[1;33m\u001b[0m\u001b[0m\n\u001b[0;32m   2678\u001b[0m             \u001b[1;31m# either boolean or fancy integer index\u001b[0m\u001b[1;33m\u001b[0m\u001b[1;33m\u001b[0m\u001b[0m\n\u001b[1;32m-> 2679\u001b[1;33m             \u001b[1;32mreturn\u001b[0m \u001b[0mself\u001b[0m\u001b[1;33m.\u001b[0m\u001b[0m_getitem_array\u001b[0m\u001b[1;33m(\u001b[0m\u001b[0mkey\u001b[0m\u001b[1;33m)\u001b[0m\u001b[1;33m\u001b[0m\u001b[0m\n\u001b[0m\u001b[0;32m   2680\u001b[0m         \u001b[1;32melif\u001b[0m \u001b[0misinstance\u001b[0m\u001b[1;33m(\u001b[0m\u001b[0mkey\u001b[0m\u001b[1;33m,\u001b[0m \u001b[0mDataFrame\u001b[0m\u001b[1;33m)\u001b[0m\u001b[1;33m:\u001b[0m\u001b[1;33m\u001b[0m\u001b[0m\n\u001b[0;32m   2681\u001b[0m             \u001b[1;32mreturn\u001b[0m \u001b[0mself\u001b[0m\u001b[1;33m.\u001b[0m\u001b[0m_getitem_frame\u001b[0m\u001b[1;33m(\u001b[0m\u001b[0mkey\u001b[0m\u001b[1;33m)\u001b[0m\u001b[1;33m\u001b[0m\u001b[0m\n",
      "\u001b[1;32m~\\AppData\\Local\\Continuum\\anaconda3\\lib\\site-packages\\pandas\\core\\frame.py\u001b[0m in \u001b[0;36m_getitem_array\u001b[1;34m(self, key)\u001b[0m\n\u001b[0;32m   2721\u001b[0m             \u001b[1;32mreturn\u001b[0m \u001b[0mself\u001b[0m\u001b[1;33m.\u001b[0m\u001b[0m_take\u001b[0m\u001b[1;33m(\u001b[0m\u001b[0mindexer\u001b[0m\u001b[1;33m,\u001b[0m \u001b[0maxis\u001b[0m\u001b[1;33m=\u001b[0m\u001b[1;36m0\u001b[0m\u001b[1;33m)\u001b[0m\u001b[1;33m\u001b[0m\u001b[0m\n\u001b[0;32m   2722\u001b[0m         \u001b[1;32melse\u001b[0m\u001b[1;33m:\u001b[0m\u001b[1;33m\u001b[0m\u001b[0m\n\u001b[1;32m-> 2723\u001b[1;33m             \u001b[0mindexer\u001b[0m \u001b[1;33m=\u001b[0m \u001b[0mself\u001b[0m\u001b[1;33m.\u001b[0m\u001b[0mloc\u001b[0m\u001b[1;33m.\u001b[0m\u001b[0m_convert_to_indexer\u001b[0m\u001b[1;33m(\u001b[0m\u001b[0mkey\u001b[0m\u001b[1;33m,\u001b[0m \u001b[0maxis\u001b[0m\u001b[1;33m=\u001b[0m\u001b[1;36m1\u001b[0m\u001b[1;33m)\u001b[0m\u001b[1;33m\u001b[0m\u001b[0m\n\u001b[0m\u001b[0;32m   2724\u001b[0m             \u001b[1;32mreturn\u001b[0m \u001b[0mself\u001b[0m\u001b[1;33m.\u001b[0m\u001b[0m_take\u001b[0m\u001b[1;33m(\u001b[0m\u001b[0mindexer\u001b[0m\u001b[1;33m,\u001b[0m \u001b[0maxis\u001b[0m\u001b[1;33m=\u001b[0m\u001b[1;36m1\u001b[0m\u001b[1;33m)\u001b[0m\u001b[1;33m\u001b[0m\u001b[0m\n\u001b[0;32m   2725\u001b[0m \u001b[1;33m\u001b[0m\u001b[0m\n",
      "\u001b[1;32m~\\AppData\\Local\\Continuum\\anaconda3\\lib\\site-packages\\pandas\\core\\indexing.py\u001b[0m in \u001b[0;36m_convert_to_indexer\u001b[1;34m(self, obj, axis, is_setter)\u001b[0m\n\u001b[0;32m   1325\u001b[0m                 \u001b[1;32mif\u001b[0m \u001b[0mmask\u001b[0m\u001b[1;33m.\u001b[0m\u001b[0many\u001b[0m\u001b[1;33m(\u001b[0m\u001b[1;33m)\u001b[0m\u001b[1;33m:\u001b[0m\u001b[1;33m\u001b[0m\u001b[0m\n\u001b[0;32m   1326\u001b[0m                     raise KeyError('{mask} not in index'\n\u001b[1;32m-> 1327\u001b[1;33m                                    .format(mask=objarr[mask]))\n\u001b[0m\u001b[0;32m   1328\u001b[0m \u001b[1;33m\u001b[0m\u001b[0m\n\u001b[0;32m   1329\u001b[0m                 \u001b[1;32mreturn\u001b[0m \u001b[0mcom\u001b[0m\u001b[1;33m.\u001b[0m\u001b[0m_values_from_object\u001b[0m\u001b[1;33m(\u001b[0m\u001b[0mindexer\u001b[0m\u001b[1;33m)\u001b[0m\u001b[1;33m\u001b[0m\u001b[0m\n",
      "\u001b[1;31mKeyError\u001b[0m: \"['mfccs'] not in index\""
     ]
    }
   ],
   "source": [
    "DF1=DF[['label','mfccs']]"
   ]
  },
  {
   "cell_type": "code",
   "execution_count": 130,
   "metadata": {},
   "outputs": [
    {
     "ename": "NameError",
     "evalue": "name 'DF1' is not defined",
     "output_type": "error",
     "traceback": [
      "\u001b[1;31m---------------------------------------------------------------------------\u001b[0m",
      "\u001b[1;31mNameError\u001b[0m                                 Traceback (most recent call last)",
      "\u001b[1;32m<ipython-input-130-321c4abf5174>\u001b[0m in \u001b[0;36m<module>\u001b[1;34m()\u001b[0m\n\u001b[1;32m----> 1\u001b[1;33m \u001b[0mDF1\u001b[0m\u001b[1;33m.\u001b[0m\u001b[0mshape\u001b[0m\u001b[1;33m\u001b[0m\u001b[0m\n\u001b[0m",
      "\u001b[1;31mNameError\u001b[0m: name 'DF1' is not defined"
     ]
    }
   ],
   "source": [
    "DF1.shape"
   ]
  },
  {
   "cell_type": "code",
   "execution_count": null,
   "metadata": {},
   "outputs": [],
   "source": [
    "#we look at the first coefficient:\n",
    "DF1['SingleCoeff']=DF1.apply(lambda row: row.mfccs[0],axis=1)"
   ]
  },
  {
   "cell_type": "code",
   "execution_count": null,
   "metadata": {
    "scrolled": true
   },
   "outputs": [],
   "source": [
    "DF1.head()"
   ]
  },
  {
   "cell_type": "code",
   "execution_count": null,
   "metadata": {},
   "outputs": [],
   "source": [
    "#see if there are any NaN values:\n",
    "assert np.unique(pd.isnull(DF1.SingleCoeff.values)) ==[False]"
   ]
  },
  {
   "cell_type": "code",
   "execution_count": null,
   "metadata": {
    "scrolled": true
   },
   "outputs": [],
   "source": [
    "sns.boxplot(x='label',y='SingleCoeff',data=DF1)\n",
    "plt.xticks(rotation='vertical')\n",
    "plt.title('First Coefficient')\n"
   ]
  },
  {
   "cell_type": "markdown",
   "metadata": {},
   "source": [
    "we do the same with the second coefficient for MFCC"
   ]
  },
  {
   "cell_type": "code",
   "execution_count": null,
   "metadata": {},
   "outputs": [],
   "source": [
    "DF1['SingleCoeff']=DF1.apply(lambda row: row.mfccs[1],axis=1)\n",
    "assert np.unique(pd.isnull(DF1.SingleCoeff.values)) ==[False]\n",
    "sns.boxplot(x='label',y='SingleCoeff',data=DF1)\n",
    "plt.xticks(rotation='vertical')\n",
    "plt.title('Second Coefficient')"
   ]
  },
  {
   "cell_type": "code",
   "execution_count": null,
   "metadata": {},
   "outputs": [],
   "source": [
    "#find the two coefficients that have the highest pearson cofficient:\n",
    "Mat=np.empty((40,len(DF1)))\n",
    "for i in range(len(DF1)):\n",
    "    Mat[:,i]=DF1.mfccs.iloc[i]\n",
    "    \n",
    "PearsonCoeff=np.corrcoef(Mat)"
   ]
  },
  {
   "cell_type": "code",
   "execution_count": null,
   "metadata": {},
   "outputs": [],
   "source": [
    "for i in range(len(PearsonCoeff)):\n",
    "    PearsonCoeff[i,i]=0\n",
    "    \n",
    "plt.imshow(PearsonCoeff)\n",
    "\n",
    "\n",
    "plt.colorbar()"
   ]
  },
  {
   "cell_type": "code",
   "execution_count": null,
   "metadata": {},
   "outputs": [],
   "source": [
    "PearsonCoeff[15,16]"
   ]
  },
  {
   "cell_type": "code",
   "execution_count": null,
   "metadata": {},
   "outputs": [],
   "source": [
    "DF1['c1']=DF1.apply(lambda row: row.mfccs[15],axis=1)\n",
    "DF1['c2']=DF1.apply(lambda row: row.mfccs[16],axis=1)\n",
    "for label in DF1.label.unique():\n",
    "    plt.scatter(DF1[DF1.label==label]['c1'],DF1[DF1.label==label]['c2'],label=label)\n",
    "plt.legend(bbox_to_anchor=(1.1,1.05))\n",
    "plt.tight_layout()\n",
    "plt.xlabel('15th Coeff Value')\n",
    "plt.ylabel('16th Coeff Value')\n",
    "plt.axis('equal')"
   ]
  },
  {
   "cell_type": "code",
   "execution_count": null,
   "metadata": {},
   "outputs": [],
   "source": [
    "np.min(PearsonCoeff)"
   ]
  },
  {
   "cell_type": "code",
   "execution_count": null,
   "metadata": {},
   "outputs": [],
   "source": [
    "PearsonCoeff[37,39]"
   ]
  },
  {
   "cell_type": "code",
   "execution_count": null,
   "metadata": {
    "scrolled": false
   },
   "outputs": [],
   "source": [
    "DF1['c1']=DF1.apply(lambda row: row.mfccs[37],axis=1)\n",
    "DF1['c2']=DF1.apply(lambda row: row.mfccs[39],axis=1)\n",
    "for label in DF1.label.unique():\n",
    "    plt.scatter(DF1[DF1.label==label]['c1'],DF1[DF1.label==label]['c2'],label=label)\n",
    "plt.legend(bbox_to_anchor=(1.1,1.05))\n",
    "plt.tight_layout()\n",
    "plt.xlabel('37th Coeff Value')\n",
    "plt.ylabel('39th Coeff Value')\n",
    "plt.axis('equal')"
   ]
  },
  {
   "cell_type": "markdown",
   "metadata": {},
   "source": [
    "Even though we have looked at the distribution of the coefficients for each class using box plots and scatter plots, we see how ecdfs (cumulative distribution functions) look like for the 1st MFCC coeff:"
   ]
  },
  {
   "cell_type": "code",
   "execution_count": null,
   "metadata": {},
   "outputs": [],
   "source": [
    "def ecdf(data):\n",
    "    \"\"\"Compute ECDF for a one-dimensional array of measurements.\"\"\"\n",
    "    # Number of data points: n\n",
    "    n=len(data)\n",
    "\n",
    "    # x-data for the ECDF: x\n",
    "    x=np.sort(data)\n",
    "\n",
    "    # y-data for the ECDF: y\n",
    "    y=np.arange(1, n+1)/n\n",
    "    \n",
    "    return x,y\n",
    "    "
   ]
  },
  {
   "cell_type": "code",
   "execution_count": null,
   "metadata": {
    "scrolled": true
   },
   "outputs": [],
   "source": [
    "DF1['c1']=DF1.apply(lambda row: row.mfccs[1],axis=1)\n",
    "for label in DF1.label.unique():\n",
    "    x,y=ecdf(DF1[DF1.label==label]['c1'])\n",
    "    plt.plot(x,y,label=label)\n",
    "\n",
    "plt.legend()\n",
    "plt.xlabel('First Spectral Coefficient')\n",
    "plt.ylabel('ECDF')\n"
   ]
  },
  {
   "cell_type": "markdown",
   "metadata": {},
   "source": [
    "We will now do the same exercise for the other features starting with: chroma"
   ]
  },
  {
   "cell_type": "code",
   "execution_count": null,
   "metadata": {},
   "outputs": [],
   "source": [
    "DF1=DF[['label','chroma']]\n",
    "DF1['SingleCoeff']=DF1.apply(lambda row: row.chroma[0],axis=1)\n",
    "assert np.unique(pd.isnull(DF1.SingleCoeff.values)) ==[False]\n",
    "sns.boxplot(x='label',y='SingleCoeff',data=DF1)\n",
    "plt.xticks(rotation='vertical')\n",
    "plt.ylabel('firstCoeff')"
   ]
  },
  {
   "cell_type": "code",
   "execution_count": null,
   "metadata": {},
   "outputs": [],
   "source": [
    "DF1=DF[['label','chroma']]\n",
    "DF1['SingleCoeff']=DF1.apply(lambda row: row.chroma[1],axis=1)\n",
    "assert np.unique(pd.isnull(DF1.SingleCoeff.values)) ==[False]\n",
    "sns.boxplot(x='label',y='SingleCoeff',data=DF1)\n",
    "plt.xticks(rotation='vertical')\n",
    "plt.ylabel('SecondCoeff')"
   ]
  },
  {
   "cell_type": "code",
   "execution_count": null,
   "metadata": {},
   "outputs": [],
   "source": [
    "DF1['c1']=DF1.apply(lambda row: row.chroma[1],axis=1)\n",
    "for label in DF1.label.unique():\n",
    "    x,y=ecdf(DF1[DF1.label==label]['c1'])\n",
    "    plt.plot(x,y,label=label)\n",
    "\n",
    "plt.legend()\n",
    "plt.xlabel('First Chroma Coefficient')\n",
    "plt.ylabel('ECDF')"
   ]
  },
  {
   "cell_type": "code",
   "execution_count": null,
   "metadata": {},
   "outputs": [],
   "source": [
    "DF1['c1']=DF1.apply(lambda row: row.chroma[1],axis=1)\n",
    "for label in DF1.label.unique():\n",
    "    x,y=ecdf(DF1[DF1.label==label]['c1'])\n",
    "    plt.plot(x,y,label=label)\n",
    "\n",
    "plt.legend()\n",
    "plt.xlabel('Second Chroma Coefficient')\n",
    "plt.ylabel('ECDF')\n"
   ]
  },
  {
   "cell_type": "markdown",
   "metadata": {},
   "source": [
    "mel"
   ]
  },
  {
   "cell_type": "code",
   "execution_count": null,
   "metadata": {},
   "outputs": [],
   "source": [
    "DF1=DF[['label','mel']]\n",
    "DF1['SingleCoeff']=DF1.apply(lambda row: row.mel[0],axis=1)\n",
    "assert np.unique(pd.isnull(DF1.SingleCoeff.values)) ==[False]\n",
    "sns.boxplot(x='label',y='SingleCoeff',data=DF1)\n",
    "plt.xticks(rotation='vertical')\n",
    "plt.ylabel('firstCoeff')\n",
    "\n",
    "plt.figure()\n",
    "DF1['SingleCoeff']=DF1.apply(lambda row: row.mel[1],axis=1)\n",
    "assert np.unique(pd.isnull(DF1.SingleCoeff.values)) ==[False]\n",
    "sns.boxplot(x='label',y='SingleCoeff',data=DF1)\n",
    "plt.xticks(rotation='vertical')\n",
    "plt.ylabel('SecondCoeff')\n",
    "\n",
    "plt.figure()\n",
    "DF1['c1']=DF1.apply(lambda row: row.mel[0],axis=1)\n",
    "for label in DF1.label.unique():\n",
    "    x,y=ecdf(DF1[DF1.label==label]['c1'])\n",
    "    plt.plot(x,y,label=label)\n",
    "plt.legend()\n",
    "plt.xlabel('First mel Coefficient')\n",
    "plt.ylabel('ECDF')\n",
    "\n",
    "plt.figure()\n",
    "DF1['c1']=DF1.apply(lambda row: row.mel[1],axis=1)\n",
    "for label in DF1.label.unique():\n",
    "    x,y=ecdf(DF1[DF1.label==label]['c1'])\n",
    "    plt.plot(x,y,label=label)\n",
    "plt.legend()\n",
    "plt.xlabel('Second mel Coefficient')\n",
    "plt.ylabel('ECDF')"
   ]
  },
  {
   "cell_type": "markdown",
   "metadata": {},
   "source": [
    "contrast"
   ]
  },
  {
   "cell_type": "code",
   "execution_count": null,
   "metadata": {},
   "outputs": [],
   "source": [
    "DF1=DF[['label','contrast']]\n",
    "DF1['SingleCoeff']=DF1.apply(lambda row: row.contrast[0],axis=1)\n",
    "assert np.unique(pd.isnull(DF1.SingleCoeff.values)) ==[False]\n",
    "sns.boxplot(x='label',y='SingleCoeff',data=DF1)\n",
    "plt.xticks(rotation='vertical')\n",
    "plt.ylabel('firstCoeff')\n",
    "\n",
    "plt.figure()\n",
    "DF1['SingleCoeff']=DF1.apply(lambda row: row.contrast[1],axis=1)\n",
    "assert np.unique(pd.isnull(DF1.SingleCoeff.values)) ==[False]\n",
    "sns.boxplot(x='label',y='SingleCoeff',data=DF1)\n",
    "plt.xticks(rotation='vertical')\n",
    "plt.ylabel('SecondCoeff')\n",
    "\n",
    "plt.figure()\n",
    "DF1['c1']=DF1.apply(lambda row: row.contrast[0],axis=1)\n",
    "for label in DF1.label.unique():\n",
    "    x,y=ecdf(DF1[DF1.label==label]['c1'])\n",
    "    plt.plot(x,y,label=label)\n",
    "plt.legend()\n",
    "plt.xlabel('First contrast Coefficient')\n",
    "plt.ylabel('ECDF')\n",
    "\n",
    "plt.figure()\n",
    "DF1['c1']=DF1.apply(lambda row: row.contrast[1],axis=1)\n",
    "for label in DF1.label.unique():\n",
    "    x,y=ecdf(DF1[DF1.label==label]['c1'])\n",
    "    plt.plot(x,y,label=label)\n",
    "plt.legend()\n",
    "plt.xlabel('Second contrast Coefficient')\n",
    "plt.ylabel('ECDF')"
   ]
  },
  {
   "cell_type": "markdown",
   "metadata": {},
   "source": [
    "tonnetz"
   ]
  },
  {
   "cell_type": "code",
   "execution_count": null,
   "metadata": {},
   "outputs": [],
   "source": [
    "DF1=DF[['label','tonnetz']]\n",
    "DF1['SingleCoeff']=DF1.apply(lambda row: row.tonnetz[0],axis=1)\n",
    "assert np.unique(pd.isnull(DF1.SingleCoeff.values)) ==[False]\n",
    "sns.boxplot(x='label',y='SingleCoeff',data=DF1)\n",
    "plt.xticks(rotation='vertical')\n",
    "plt.ylabel('firstCoeff')\n",
    "\n",
    "plt.figure()\n",
    "DF1['SingleCoeff']=DF1.apply(lambda row: row.tonnetz[1],axis=1)\n",
    "assert np.unique(pd.isnull(DF1.SingleCoeff.values)) ==[False]\n",
    "sns.boxplot(x='label',y='SingleCoeff',data=DF1)\n",
    "plt.xticks(rotation='vertical')\n",
    "plt.ylabel('SecondCoeff')\n",
    "\n",
    "plt.figure()\n",
    "DF1['c1']=DF1.apply(lambda row: row.tonnetz[0],axis=1)\n",
    "for label in DF1.label.unique():\n",
    "    x,y=ecdf(DF1[DF1.label==label]['c1'])\n",
    "    plt.plot(x,y,label=label)\n",
    "plt.legend()\n",
    "plt.xlabel('First tonnetz Coefficient')\n",
    "plt.ylabel('ECDF')\n",
    "\n",
    "plt.figure()\n",
    "DF1['c1']=DF1.apply(lambda row: row.tonnetz[1],axis=1)\n",
    "for label in DF1.label.unique():\n",
    "    x,y=ecdf(DF1[DF1.label==label]['c1'])\n",
    "    plt.plot(x,y,label=label)\n",
    "plt.legend()\n",
    "plt.xlabel('Second tonnetz Coefficient')\n",
    "plt.ylabel('ECDF')"
   ]
  },
  {
   "cell_type": "markdown",
   "metadata": {},
   "source": [
    "## Finding Distribution of means"
   ]
  },
  {
   "cell_type": "code",
   "execution_count": 113,
   "metadata": {},
   "outputs": [
    {
     "data": {
      "text/plain": [
       "(5435, 7)"
      ]
     },
     "execution_count": 113,
     "metadata": {},
     "output_type": "execute_result"
    }
   ],
   "source": [
    "with open('DataSummary\\Features.pickle','rb') as file:\n",
    "    DF=pickle.load(file)\n",
    "DF.shape"
   ]
  },
  {
   "cell_type": "code",
   "execution_count": 114,
   "metadata": {},
   "outputs": [
    {
     "name": "stdout",
     "output_type": "stream",
     "text": [
      "each sound has features of length: 193\n"
     ]
    }
   ],
   "source": [
    "length=0\n",
    "for col in DF.columns[2:]:\n",
    "    length+=len(DF[col][0])\n",
    "    \n",
    "print('each sound has features of length: '+str(length))"
   ]
  },
  {
   "cell_type": "markdown",
   "metadata": {},
   "source": [
    "for every class we will get the mean and std of each feature. We build a Data frame that stores the mean and medians of each feature:"
   ]
  },
  {
   "cell_type": "code",
   "execution_count": 115,
   "metadata": {},
   "outputs": [],
   "source": [
    "DF['FeatureVector']=DF.apply(lambda row: np.hstack((row.mfccs,row.chroma,row.mel,row.contrast,row.tonnetz)),axis=1)"
   ]
  },
  {
   "cell_type": "code",
   "execution_count": 116,
   "metadata": {},
   "outputs": [],
   "source": [
    "DF=DF[['label','ID','FeatureVector']]"
   ]
  },
  {
   "cell_type": "code",
   "execution_count": 117,
   "metadata": {},
   "outputs": [
    {
     "data": {
      "text/html": [
       "<div>\n",
       "<style scoped>\n",
       "    .dataframe tbody tr th:only-of-type {\n",
       "        vertical-align: middle;\n",
       "    }\n",
       "\n",
       "    .dataframe tbody tr th {\n",
       "        vertical-align: top;\n",
       "    }\n",
       "\n",
       "    .dataframe thead th {\n",
       "        text-align: right;\n",
       "    }\n",
       "</style>\n",
       "<table border=\"1\" class=\"dataframe\">\n",
       "  <thead>\n",
       "    <tr style=\"text-align: right;\">\n",
       "      <th></th>\n",
       "      <th>label</th>\n",
       "      <th>ID</th>\n",
       "      <th>FeatureVector</th>\n",
       "    </tr>\n",
       "  </thead>\n",
       "  <tbody>\n",
       "    <tr>\n",
       "      <th>0</th>\n",
       "      <td>siren</td>\n",
       "      <td>0</td>\n",
       "      <td>[-75.09571792626822, 129.61184458091378, -32.6...</td>\n",
       "    </tr>\n",
       "    <tr>\n",
       "      <th>1</th>\n",
       "      <td>siren</td>\n",
       "      <td>1017</td>\n",
       "      <td>[-529.8225494418793, 3.2076505339364685, -39.3...</td>\n",
       "    </tr>\n",
       "    <tr>\n",
       "      <th>2</th>\n",
       "      <td>siren</td>\n",
       "      <td>1068</td>\n",
       "      <td>[-321.6916830761862, 142.7038945186553, -29.06...</td>\n",
       "    </tr>\n",
       "    <tr>\n",
       "      <th>3</th>\n",
       "      <td>siren</td>\n",
       "      <td>1069</td>\n",
       "      <td>[-251.96383863061635, 114.6776430250902, -70.2...</td>\n",
       "    </tr>\n",
       "    <tr>\n",
       "      <th>4</th>\n",
       "      <td>siren</td>\n",
       "      <td>1116</td>\n",
       "      <td>[-341.2867620636534, 148.38603712522664, -19.5...</td>\n",
       "    </tr>\n",
       "  </tbody>\n",
       "</table>\n",
       "</div>"
      ],
      "text/plain": [
       "   label    ID                                      FeatureVector\n",
       "0  siren     0  [-75.09571792626822, 129.61184458091378, -32.6...\n",
       "1  siren  1017  [-529.8225494418793, 3.2076505339364685, -39.3...\n",
       "2  siren  1068  [-321.6916830761862, 142.7038945186553, -29.06...\n",
       "3  siren  1069  [-251.96383863061635, 114.6776430250902, -70.2...\n",
       "4  siren  1116  [-341.2867620636534, 148.38603712522664, -19.5..."
      ]
     },
     "execution_count": 117,
     "metadata": {},
     "output_type": "execute_result"
    }
   ],
   "source": [
    "DF.head()"
   ]
  },
  {
   "cell_type": "code",
   "execution_count": 118,
   "metadata": {},
   "outputs": [],
   "source": [
    "featureInfo=defaultdict(list)\n",
    "for sound in classes:\n",
    "    for feature in range(193):\n",
    "        #calculate the mean:\n",
    "        DFnow=DF[DF['label']==sound]\n",
    "        aa=np.zeros((len(DFnow),))\n",
    "        for i in range(len(DFnow)):\n",
    "            aa[i]=DFnow.FeatureVector.iloc[i][feature]\n",
    "        aa=np.array(aa)\n",
    "        featureInfo[feature].append(np.mean(aa))\n",
    "\n",
    "        \n",
    "        "
   ]
  },
  {
   "cell_type": "code",
   "execution_count": 137,
   "metadata": {
    "scrolled": false
   },
   "outputs": [
    {
     "data": {
      "text/html": [
       "<div>\n",
       "<style scoped>\n",
       "    .dataframe tbody tr th:only-of-type {\n",
       "        vertical-align: middle;\n",
       "    }\n",
       "\n",
       "    .dataframe tbody tr th {\n",
       "        vertical-align: top;\n",
       "    }\n",
       "\n",
       "    .dataframe thead th {\n",
       "        text-align: right;\n",
       "    }\n",
       "</style>\n",
       "<table border=\"1\" class=\"dataframe\">\n",
       "  <thead>\n",
       "    <tr style=\"text-align: right;\">\n",
       "      <th></th>\n",
       "      <th>0</th>\n",
       "      <th>1</th>\n",
       "      <th>2</th>\n",
       "      <th>3</th>\n",
       "      <th>4</th>\n",
       "      <th>5</th>\n",
       "      <th>6</th>\n",
       "      <th>7</th>\n",
       "      <th>8</th>\n",
       "      <th>9</th>\n",
       "      <th>...</th>\n",
       "      <th>184</th>\n",
       "      <th>185</th>\n",
       "      <th>186</th>\n",
       "      <th>187</th>\n",
       "      <th>188</th>\n",
       "      <th>189</th>\n",
       "      <th>190</th>\n",
       "      <th>191</th>\n",
       "      <th>192</th>\n",
       "      <th>label</th>\n",
       "    </tr>\n",
       "  </thead>\n",
       "  <tbody>\n",
       "    <tr>\n",
       "      <th>0</th>\n",
       "      <td>-300.513380</td>\n",
       "      <td>140.535752</td>\n",
       "      <td>-38.854834</td>\n",
       "      <td>-1.521374</td>\n",
       "      <td>-11.289074</td>\n",
       "      <td>11.397450</td>\n",
       "      <td>9.818977</td>\n",
       "      <td>10.128545</td>\n",
       "      <td>-3.961338</td>\n",
       "      <td>6.948646</td>\n",
       "      <td>...</td>\n",
       "      <td>21.087021</td>\n",
       "      <td>21.209784</td>\n",
       "      <td>33.752628</td>\n",
       "      <td>-0.002784</td>\n",
       "      <td>0.004276</td>\n",
       "      <td>-0.005492</td>\n",
       "      <td>-0.001879</td>\n",
       "      <td>0.001390</td>\n",
       "      <td>0.001716</td>\n",
       "      <td>siren</td>\n",
       "    </tr>\n",
       "    <tr>\n",
       "      <th>1</th>\n",
       "      <td>-222.684765</td>\n",
       "      <td>127.932307</td>\n",
       "      <td>-19.914996</td>\n",
       "      <td>18.903519</td>\n",
       "      <td>-4.346779</td>\n",
       "      <td>4.456734</td>\n",
       "      <td>-5.716090</td>\n",
       "      <td>0.077333</td>\n",
       "      <td>-6.294900</td>\n",
       "      <td>1.617931</td>\n",
       "      <td>...</td>\n",
       "      <td>19.458158</td>\n",
       "      <td>19.928523</td>\n",
       "      <td>33.200788</td>\n",
       "      <td>0.003436</td>\n",
       "      <td>0.010795</td>\n",
       "      <td>-0.007172</td>\n",
       "      <td>0.003461</td>\n",
       "      <td>0.001354</td>\n",
       "      <td>0.001850</td>\n",
       "      <td>street_music</td>\n",
       "    </tr>\n",
       "    <tr>\n",
       "      <th>2</th>\n",
       "      <td>-246.686679</td>\n",
       "      <td>125.883357</td>\n",
       "      <td>-2.331604</td>\n",
       "      <td>21.107996</td>\n",
       "      <td>5.676171</td>\n",
       "      <td>12.290029</td>\n",
       "      <td>1.535647</td>\n",
       "      <td>9.726124</td>\n",
       "      <td>-0.880018</td>\n",
       "      <td>5.186194</td>\n",
       "      <td>...</td>\n",
       "      <td>16.123348</td>\n",
       "      <td>16.809486</td>\n",
       "      <td>32.050509</td>\n",
       "      <td>-0.001472</td>\n",
       "      <td>0.011483</td>\n",
       "      <td>-0.031604</td>\n",
       "      <td>-0.019198</td>\n",
       "      <td>0.004960</td>\n",
       "      <td>-0.000150</td>\n",
       "      <td>air_conditioner</td>\n",
       "    </tr>\n",
       "    <tr>\n",
       "      <th>3</th>\n",
       "      <td>-323.512857</td>\n",
       "      <td>111.330886</td>\n",
       "      <td>-22.052062</td>\n",
       "      <td>-5.566127</td>\n",
       "      <td>-9.999323</td>\n",
       "      <td>-0.955628</td>\n",
       "      <td>-6.910894</td>\n",
       "      <td>0.225471</td>\n",
       "      <td>-2.822838</td>\n",
       "      <td>2.133296</td>\n",
       "      <td>...</td>\n",
       "      <td>18.742571</td>\n",
       "      <td>18.512039</td>\n",
       "      <td>30.951920</td>\n",
       "      <td>-0.001064</td>\n",
       "      <td>0.008052</td>\n",
       "      <td>-0.004648</td>\n",
       "      <td>0.010290</td>\n",
       "      <td>0.003245</td>\n",
       "      <td>0.003037</td>\n",
       "      <td>dog_bark</td>\n",
       "    </tr>\n",
       "    <tr>\n",
       "      <th>4</th>\n",
       "      <td>-120.231269</td>\n",
       "      <td>88.343473</td>\n",
       "      <td>-11.179737</td>\n",
       "      <td>20.524013</td>\n",
       "      <td>-6.523954</td>\n",
       "      <td>12.202459</td>\n",
       "      <td>-3.624052</td>\n",
       "      <td>8.785070</td>\n",
       "      <td>-7.620795</td>\n",
       "      <td>4.834631</td>\n",
       "      <td>...</td>\n",
       "      <td>15.403066</td>\n",
       "      <td>16.792736</td>\n",
       "      <td>34.850262</td>\n",
       "      <td>-0.002385</td>\n",
       "      <td>0.001439</td>\n",
       "      <td>0.000405</td>\n",
       "      <td>0.026190</td>\n",
       "      <td>-0.002406</td>\n",
       "      <td>0.006060</td>\n",
       "      <td>jackhammer</td>\n",
       "    </tr>\n",
       "    <tr>\n",
       "      <th>5</th>\n",
       "      <td>-184.737018</td>\n",
       "      <td>112.768129</td>\n",
       "      <td>-36.319785</td>\n",
       "      <td>22.178084</td>\n",
       "      <td>-5.877188</td>\n",
       "      <td>-1.479726</td>\n",
       "      <td>2.949503</td>\n",
       "      <td>5.032389</td>\n",
       "      <td>-10.304461</td>\n",
       "      <td>6.432345</td>\n",
       "      <td>...</td>\n",
       "      <td>22.453356</td>\n",
       "      <td>23.924394</td>\n",
       "      <td>34.851040</td>\n",
       "      <td>-0.000015</td>\n",
       "      <td>0.000043</td>\n",
       "      <td>0.033548</td>\n",
       "      <td>0.037644</td>\n",
       "      <td>-0.009297</td>\n",
       "      <td>0.004661</td>\n",
       "      <td>car_horn</td>\n",
       "    </tr>\n",
       "    <tr>\n",
       "      <th>6</th>\n",
       "      <td>-131.563420</td>\n",
       "      <td>53.134386</td>\n",
       "      <td>-27.346698</td>\n",
       "      <td>7.052724</td>\n",
       "      <td>-10.359538</td>\n",
       "      <td>2.060020</td>\n",
       "      <td>-4.232519</td>\n",
       "      <td>2.630495</td>\n",
       "      <td>-4.760993</td>\n",
       "      <td>0.974084</td>\n",
       "      <td>...</td>\n",
       "      <td>16.598004</td>\n",
       "      <td>18.124394</td>\n",
       "      <td>32.902759</td>\n",
       "      <td>-0.001385</td>\n",
       "      <td>-0.001786</td>\n",
       "      <td>0.005739</td>\n",
       "      <td>-0.002459</td>\n",
       "      <td>0.001686</td>\n",
       "      <td>-0.001647</td>\n",
       "      <td>drilling</td>\n",
       "    </tr>\n",
       "    <tr>\n",
       "      <th>7</th>\n",
       "      <td>-270.151953</td>\n",
       "      <td>108.845996</td>\n",
       "      <td>-31.729275</td>\n",
       "      <td>17.588223</td>\n",
       "      <td>-6.244313</td>\n",
       "      <td>6.790487</td>\n",
       "      <td>-2.083449</td>\n",
       "      <td>2.318447</td>\n",
       "      <td>-0.621398</td>\n",
       "      <td>2.915704</td>\n",
       "      <td>...</td>\n",
       "      <td>17.937575</td>\n",
       "      <td>18.526941</td>\n",
       "      <td>32.545408</td>\n",
       "      <td>-0.002862</td>\n",
       "      <td>0.009993</td>\n",
       "      <td>-0.001264</td>\n",
       "      <td>0.005439</td>\n",
       "      <td>0.002825</td>\n",
       "      <td>0.002751</td>\n",
       "      <td>children_playing</td>\n",
       "    </tr>\n",
       "    <tr>\n",
       "      <th>8</th>\n",
       "      <td>-242.600829</td>\n",
       "      <td>94.302372</td>\n",
       "      <td>-23.864243</td>\n",
       "      <td>7.554563</td>\n",
       "      <td>-12.473801</td>\n",
       "      <td>2.201857</td>\n",
       "      <td>-5.986336</td>\n",
       "      <td>3.742585</td>\n",
       "      <td>-3.182458</td>\n",
       "      <td>2.297363</td>\n",
       "      <td>...</td>\n",
       "      <td>15.264481</td>\n",
       "      <td>16.335832</td>\n",
       "      <td>32.775710</td>\n",
       "      <td>-0.003106</td>\n",
       "      <td>0.012809</td>\n",
       "      <td>-0.008326</td>\n",
       "      <td>0.015633</td>\n",
       "      <td>0.003489</td>\n",
       "      <td>0.006723</td>\n",
       "      <td>gun_shot</td>\n",
       "    </tr>\n",
       "    <tr>\n",
       "      <th>9</th>\n",
       "      <td>-208.475961</td>\n",
       "      <td>120.212613</td>\n",
       "      <td>-8.354217</td>\n",
       "      <td>24.977418</td>\n",
       "      <td>-0.179493</td>\n",
       "      <td>15.439276</td>\n",
       "      <td>2.815531</td>\n",
       "      <td>8.333989</td>\n",
       "      <td>-1.513252</td>\n",
       "      <td>5.139938</td>\n",
       "      <td>...</td>\n",
       "      <td>15.582195</td>\n",
       "      <td>16.663787</td>\n",
       "      <td>31.880800</td>\n",
       "      <td>-0.001626</td>\n",
       "      <td>0.015676</td>\n",
       "      <td>0.009604</td>\n",
       "      <td>0.000358</td>\n",
       "      <td>0.004615</td>\n",
       "      <td>0.007300</td>\n",
       "      <td>engine_idling</td>\n",
       "    </tr>\n",
       "  </tbody>\n",
       "</table>\n",
       "<p>10 rows × 194 columns</p>\n",
       "</div>"
      ],
      "text/plain": [
       "            0           1          2          3          4          5  \\\n",
       "0 -300.513380  140.535752 -38.854834  -1.521374 -11.289074  11.397450   \n",
       "1 -222.684765  127.932307 -19.914996  18.903519  -4.346779   4.456734   \n",
       "2 -246.686679  125.883357  -2.331604  21.107996   5.676171  12.290029   \n",
       "3 -323.512857  111.330886 -22.052062  -5.566127  -9.999323  -0.955628   \n",
       "4 -120.231269   88.343473 -11.179737  20.524013  -6.523954  12.202459   \n",
       "5 -184.737018  112.768129 -36.319785  22.178084  -5.877188  -1.479726   \n",
       "6 -131.563420   53.134386 -27.346698   7.052724 -10.359538   2.060020   \n",
       "7 -270.151953  108.845996 -31.729275  17.588223  -6.244313   6.790487   \n",
       "8 -242.600829   94.302372 -23.864243   7.554563 -12.473801   2.201857   \n",
       "9 -208.475961  120.212613  -8.354217  24.977418  -0.179493  15.439276   \n",
       "\n",
       "          6          7          8         9        ...               184  \\\n",
       "0  9.818977  10.128545  -3.961338  6.948646        ...         21.087021   \n",
       "1 -5.716090   0.077333  -6.294900  1.617931        ...         19.458158   \n",
       "2  1.535647   9.726124  -0.880018  5.186194        ...         16.123348   \n",
       "3 -6.910894   0.225471  -2.822838  2.133296        ...         18.742571   \n",
       "4 -3.624052   8.785070  -7.620795  4.834631        ...         15.403066   \n",
       "5  2.949503   5.032389 -10.304461  6.432345        ...         22.453356   \n",
       "6 -4.232519   2.630495  -4.760993  0.974084        ...         16.598004   \n",
       "7 -2.083449   2.318447  -0.621398  2.915704        ...         17.937575   \n",
       "8 -5.986336   3.742585  -3.182458  2.297363        ...         15.264481   \n",
       "9  2.815531   8.333989  -1.513252  5.139938        ...         15.582195   \n",
       "\n",
       "         185        186       187       188       189       190       191  \\\n",
       "0  21.209784  33.752628 -0.002784  0.004276 -0.005492 -0.001879  0.001390   \n",
       "1  19.928523  33.200788  0.003436  0.010795 -0.007172  0.003461  0.001354   \n",
       "2  16.809486  32.050509 -0.001472  0.011483 -0.031604 -0.019198  0.004960   \n",
       "3  18.512039  30.951920 -0.001064  0.008052 -0.004648  0.010290  0.003245   \n",
       "4  16.792736  34.850262 -0.002385  0.001439  0.000405  0.026190 -0.002406   \n",
       "5  23.924394  34.851040 -0.000015  0.000043  0.033548  0.037644 -0.009297   \n",
       "6  18.124394  32.902759 -0.001385 -0.001786  0.005739 -0.002459  0.001686   \n",
       "7  18.526941  32.545408 -0.002862  0.009993 -0.001264  0.005439  0.002825   \n",
       "8  16.335832  32.775710 -0.003106  0.012809 -0.008326  0.015633  0.003489   \n",
       "9  16.663787  31.880800 -0.001626  0.015676  0.009604  0.000358  0.004615   \n",
       "\n",
       "        192             label  \n",
       "0  0.001716             siren  \n",
       "1  0.001850      street_music  \n",
       "2 -0.000150   air_conditioner  \n",
       "3  0.003037          dog_bark  \n",
       "4  0.006060        jackhammer  \n",
       "5  0.004661          car_horn  \n",
       "6 -0.001647          drilling  \n",
       "7  0.002751  children_playing  \n",
       "8  0.006723          gun_shot  \n",
       "9  0.007300     engine_idling  \n",
       "\n",
       "[10 rows x 194 columns]"
      ]
     },
     "execution_count": 137,
     "metadata": {},
     "output_type": "execute_result"
    }
   ],
   "source": [
    "featureInfo=pd.DataFrame.from_dict(featureInfo)\n",
    "featureInfo['label']=classes\n",
    "featureInfo.head(10)"
   ]
  },
  {
   "cell_type": "code",
   "execution_count": 128,
   "metadata": {},
   "outputs": [
    {
     "data": {
      "text/plain": [
       "(array([0, 1, 2, 3, 4, 5, 6, 7, 8, 9]), <a list of 10 Text xticklabel objects>)"
      ]
     },
     "execution_count": 128,
     "metadata": {},
     "output_type": "execute_result"
    },
    {
     "data": {
      "image/png": "[encoded data removed]",
      "text/plain": [
       "<Figure size 432x288 with 1 Axes>"
      ]
     },
     "metadata": {},
     "output_type": "display_data"
    }
   ],
   "source": [
    "sns.barplot(x='label',y=2,data=featureInfo)\n",
    "plt.ylabel('Average Value of Feature 2')\n",
    "plt.xticks(rotation='vertical')"
   ]
  },
  {
   "cell_type": "markdown",
   "metadata": {},
   "source": [
    "## Coefficient of Variation: We compute the coefficient of variation for each feature:"
   ]
  },
  {
   "cell_type": "code",
   "execution_count": null,
   "metadata": {},
   "outputs": [],
   "source": [
    "Matrix=np.zeros((193,))\n",
    "for i in range(193):\n",
    "    Matrix[i]=np.std(featureInfo[i])/np.mean(featureInfo[i])"
   ]
  },
  {
   "cell_type": "code",
   "execution_count": null,
   "metadata": {},
   "outputs": [],
   "source": [
    "Matrix"
   ]
  },
  {
   "cell_type": "code",
   "execution_count": null,
   "metadata": {},
   "outputs": [],
   "source": [
    "Matrix1=np.abs(Matrix)\n",
    "ind=np.argmin(Matrix)\n",
    "print(ind)"
   ]
  },
  {
   "cell_type": "code",
   "execution_count": null,
   "metadata": {},
   "outputs": [],
   "source": [
    "plt.scatter(classes,featureInfo[ind])\n",
    "plt.xticks(rotation='vertical')"
   ]
  },
  {
   "cell_type": "code",
   "execution_count": null,
   "metadata": {},
   "outputs": [],
   "source": [
    "ind=3\n",
    "plt.scatter(classes,featureInfo[ind])\n",
    "plt.xticks(rotation='vertical')\n",
    "plt.xlabel('Class')\n",
    "plt.ylabel('Mean of Feature Number '+str(ind))"
   ]
  },
  {
   "cell_type": "code",
   "execution_count": null,
   "metadata": {},
   "outputs": [],
   "source": [
    "sns.boxplot(y=ind,data=featureInfo)"
   ]
  },
  {
   "cell_type": "code",
   "execution_count": null,
   "metadata": {},
   "outputs": [],
   "source": [
    "classes"
   ]
  },
  {
   "cell_type": "code",
   "execution_count": null,
   "metadata": {},
   "outputs": [],
   "source": [
    "DFnow=featureInfo[featureInfo.label=='siren']\n",
    "arr=DFnow.iloc[0,0:193]"
   ]
  },
  {
   "cell_type": "code",
   "execution_count": null,
   "metadata": {},
   "outputs": [],
   "source": [
    "plt.bar(np.arange(0,193),arr)\n",
    "plt.title('features for siren')\n",
    "plt.xlabel('feature number')\n",
    "plt.ylabel('feature value')"
   ]
  },
  {
   "cell_type": "code",
   "execution_count": null,
   "metadata": {},
   "outputs": [],
   "source": [
    "sns.boxplot(x='label',y=1,data=featureInfo)\n",
    "plt.xticks(rotation='vertical')"
   ]
  },
  {
   "cell_type": "markdown",
   "metadata": {},
   "source": [
    "we now have two dataframes:\n",
    "DF and featureInfo. DF containes the feature vector of each sample, when feature Info contains the means of each feature for each class.\n",
    "For every row in DF we get a 193 element vetor that at each entry gives the class whose mean is closest to the feature's value."
   ]
  },
  {
   "cell_type": "code",
   "execution_count": 141,
   "metadata": {},
   "outputs": [
    {
     "name": "stderr",
     "output_type": "stream",
     "text": [
      "C:\\Users\\MHarajli\\AppData\\Local\\Continuum\\anaconda3\\lib\\site-packages\\numpy\\core\\fromnumeric.py:52: FutureWarning: 'argmin' is deprecated, use 'idxmin' instead. The behavior of 'argmin'\n",
      "will be corrected to return the positional minimum in the future.\n",
      "Use 'series.values.argmin' to get the position of the minimum now.\n",
      "  return getattr(obj, method)(*args, **kwds)\n",
      "C:\\Users\\MHarajli\\AppData\\Local\\Continuum\\anaconda3\\lib\\site-packages\\pandas\\core\\indexing.py:189: SettingWithCopyWarning: \n",
      "A value is trying to be set on a copy of a slice from a DataFrame\n",
      "\n",
      "See the caveats in the documentation: http://pandas.pydata.org/pandas-docs/stable/indexing.html#indexing-view-versus-copy\n",
      "  self._setitem_with_indexer(indexer, value)\n"
     ]
    }
   ],
   "source": [
    "DF2=pd.DataFrame.copy(DF)\n",
    "DF2['guess']=0\n",
    "\n",
    "for i in range(5435):\n",
    "    guess=np.zeros(len(classes),)\n",
    "    for j in range(len(DF2.FeatureVector.iloc[i])):\n",
    "        fVal=DF2.FeatureVector.iloc[i][j]\n",
    "        distance=np.abs(featureInfo[j]-fVal)\n",
    "        guess[np.argmin(distance)]+=1\n",
    "    DF2['guess'].iloc[i]=classes[np.argmax(guess)]\n",
    "        \n",
    "        "
   ]
  },
  {
   "cell_type": "code",
   "execution_count": 143,
   "metadata": {},
   "outputs": [
    {
     "data": {
      "text/html": [
       "<div>\n",
       "<style scoped>\n",
       "    .dataframe tbody tr th:only-of-type {\n",
       "        vertical-align: middle;\n",
       "    }\n",
       "\n",
       "    .dataframe tbody tr th {\n",
       "        vertical-align: top;\n",
       "    }\n",
       "\n",
       "    .dataframe thead th {\n",
       "        text-align: right;\n",
       "    }\n",
       "</style>\n",
       "<table border=\"1\" class=\"dataframe\">\n",
       "  <thead>\n",
       "    <tr style=\"text-align: right;\">\n",
       "      <th></th>\n",
       "      <th>label</th>\n",
       "      <th>ID</th>\n",
       "      <th>FeatureVector</th>\n",
       "      <th>guess</th>\n",
       "    </tr>\n",
       "  </thead>\n",
       "  <tbody>\n",
       "    <tr>\n",
       "      <th>0</th>\n",
       "      <td>siren</td>\n",
       "      <td>0</td>\n",
       "      <td>[-75.09571792626822, 129.61184458091378, -32.6...</td>\n",
       "      <td>street_music</td>\n",
       "    </tr>\n",
       "    <tr>\n",
       "      <th>1</th>\n",
       "      <td>siren</td>\n",
       "      <td>1017</td>\n",
       "      <td>[-529.8225494418793, 3.2076505339364685, -39.3...</td>\n",
       "      <td>siren</td>\n",
       "    </tr>\n",
       "    <tr>\n",
       "      <th>2</th>\n",
       "      <td>siren</td>\n",
       "      <td>1068</td>\n",
       "      <td>[-321.6916830761862, 142.7038945186553, -29.06...</td>\n",
       "      <td>siren</td>\n",
       "    </tr>\n",
       "    <tr>\n",
       "      <th>3</th>\n",
       "      <td>siren</td>\n",
       "      <td>1069</td>\n",
       "      <td>[-251.96383863061635, 114.6776430250902, -70.2...</td>\n",
       "      <td>siren</td>\n",
       "    </tr>\n",
       "    <tr>\n",
       "      <th>4</th>\n",
       "      <td>siren</td>\n",
       "      <td>1116</td>\n",
       "      <td>[-341.2867620636534, 148.38603712522664, -19.5...</td>\n",
       "      <td>siren</td>\n",
       "    </tr>\n",
       "  </tbody>\n",
       "</table>\n",
       "</div>"
      ],
      "text/plain": [
       "   label    ID                                      FeatureVector  \\\n",
       "0  siren     0  [-75.09571792626822, 129.61184458091378, -32.6...   \n",
       "1  siren  1017  [-529.8225494418793, 3.2076505339364685, -39.3...   \n",
       "2  siren  1068  [-321.6916830761862, 142.7038945186553, -29.06...   \n",
       "3  siren  1069  [-251.96383863061635, 114.6776430250902, -70.2...   \n",
       "4  siren  1116  [-341.2867620636534, 148.38603712522664, -19.5...   \n",
       "\n",
       "          guess  \n",
       "0  street_music  \n",
       "1         siren  \n",
       "2         siren  \n",
       "3         siren  \n",
       "4         siren  "
      ]
     },
     "execution_count": 143,
     "metadata": {},
     "output_type": "execute_result"
    }
   ],
   "source": [
    "DF2.head()"
   ]
  },
  {
   "cell_type": "code",
   "execution_count": 144,
   "metadata": {},
   "outputs": [],
   "source": [
    "from sklearn.metrics import confusion_matrix"
   ]
  },
  {
   "cell_type": "code",
   "execution_count": 150,
   "metadata": {},
   "outputs": [],
   "source": [
    "ConfMatrix=confusion_matrix(DF2['label'].values,DF2['guess'].values,labels=classes)"
   ]
  },
  {
   "cell_type": "code",
   "execution_count": 154,
   "metadata": {},
   "outputs": [],
   "source": [
    "import itertools\n",
    "def plot_confusion_matrix(cm, classes,\n",
    "                          normalize=False,\n",
    "                          title='Confusion matrix',\n",
    "                          cmap=plt.cm.Blues):\n",
    "    \"\"\"\n",
    "    This function prints and plots the confusion matrix.\n",
    "    Normalization can be applied by setting `normalize=True`.\n",
    "    \"\"\"\n",
    "    if normalize:\n",
    "        cm = cm.astype('float') / cm.sum(axis=1)[:, np.newaxis]\n",
    "        print(\"Normalized confusion matrix\")\n",
    "    else:\n",
    "        print('Confusion matrix, without normalization')\n",
    "\n",
    "    print(cm)\n",
    "\n",
    "    plt.imshow(cm, interpolation='nearest', cmap=cmap)\n",
    "    plt.title(title)\n",
    "    plt.colorbar()\n",
    "    tick_marks = np.arange(len(classes))\n",
    "    plt.xticks(tick_marks, classes, rotation=45)\n",
    "    plt.yticks(tick_marks, classes)\n",
    "\n",
    "    fmt = '.2f' if normalize else 'd'\n",
    "    thresh = cm.max() / 2.\n",
    "    for i, j in itertools.product(range(cm.shape[0]), range(cm.shape[1])):\n",
    "        plt.text(j, i, format(cm[i, j], fmt),\n",
    "                 horizontalalignment=\"center\",\n",
    "                 color=\"white\" if cm[i, j] > thresh else \"black\")\n",
    "\n",
    "    plt.ylabel('True label')\n",
    "    plt.xlabel('Predicted label')\n",
    "    plt.tight_layout()"
   ]
  },
  {
   "cell_type": "code",
   "execution_count": 159,
   "metadata": {},
   "outputs": [
    {
     "name": "stdout",
     "output_type": "stream",
     "text": [
      "Confusion matrix, without normalization\n",
      "[[590   4   6   1   0   1   1   1   0   3]\n",
      " [498  14  27   9   2  18   9  10  10   3]\n",
      " [413   2 139   2   2  28   2   2   2   8]\n",
      " [506   1  26   3   1  13  11  24  15   0]\n",
      " [165  10 286   5  49   6  49  24  18  56]\n",
      " [207   4  29   1   1  60   1   0   1   2]\n",
      " [121   4 195   5  14  31 145  63  14   8]\n",
      " [499   1  47   0   2   6   4  37   2   2]\n",
      " [ 18   1  58  12   9   2  24   3  98   5]\n",
      " [397   8 139   1  33  15   4   1   3  23]]\n"
     ]
    },
    {
     "data": {
      "image/png": "[encoded data removed]",
      "text/plain": [
       "<Figure size 720x432 with 2 Axes>"
      ]
     },
     "metadata": {},
     "output_type": "display_data"
    }
   ],
   "source": [
    "\n",
    "plt.figure(figsize=(10,6))\n",
    "plot_confusion_matrix(ConfMatrix, classes=classes,title='Confusion matrix, without normalization')\n",
    "plt.xticks(rotation='vertical')\n",
    "\n",
    "plt.savefig('ConfusionMatrix.png')"
   ]
  },
  {
   "cell_type": "code",
   "execution_count": null,
   "metadata": {},
   "outputs": [],
   "source": []
  }
 ],
 "metadata": {
  "kernelspec": {
   "display_name": "Python 3",
   "language": "python",
   "name": "python3"
  },
  "language_info": {
   "codemirror_mode": {
    "name": "ipython",
    "version": 3
   },
   "file_extension": ".py",
   "mimetype": "text/x-python",
   "name": "python",
   "nbconvert_exporter": "python",
   "pygments_lexer": "ipython3",
   "version": "3.6.5"
  }
 },
 "nbformat": 4,
 "nbformat_minor": 2
}
